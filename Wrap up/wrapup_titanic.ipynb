{
 "cells": [
  {
   "cell_type": "code",
   "execution_count": 1,
   "metadata": {},
   "outputs": [],
   "source": [
    "import pandas as pd\n",
    "import numpy as np\n",
    "\n",
    "import seaborn as sns\n",
    "import matplotlib.pyplot as plt\n",
    "\n",
    "from sklearn.preprocessing import PolynomialFeatures\n",
    "\n",
    "from sklearn.model_selection import train_test_split\n",
    "from sklearn.model_selection import cross_val_score, StratifiedKFold\n",
    "from sklearn.linear_model import LogisticRegression\n",
    "from sklearn.neighbors import KNeighborsClassifier\n",
    "from sklearn.tree import DecisionTreeClassifier\n",
    "from sklearn.pipeline import Pipeline\n",
    "from sklearn.impute import SimpleImputer\n",
    "from sklearn.feature_selection import RFE\n",
    "from sklearn.model_selection import GridSearchCV, StratifiedKFold\n",
    "from sklearn.preprocessing import OneHotEncoder\n",
    "from sklearn.compose import ColumnTransformer\n",
    "\n",
    "import category_encoders as ce\n",
    "\n",
    "from imblearn.pipeline import Pipeline\n",
    "from imblearn.over_sampling import RandomOverSampler, SMOTE\n",
    "from imblearn.under_sampling import RandomUnderSampler\n",
    "\n",
    "from scipy.stats import mannwhitneyu\n",
    "\n",
    "import pingouin as pg\n",
    "\n",
    "from sklearn.metrics import confusion_matrix, classification_report, f1_score, recall_score, precision_score, plot_confusion_matrix, plot_roc_curve, roc_curve"
   ]
  },
  {
   "cell_type": "code",
   "execution_count": 2,
   "metadata": {},
   "outputs": [
    {
     "name": "stderr",
     "output_type": "stream",
     "text": [
      "C:\\Users\\asus\\anaconda3\\lib\\site-packages\\outdated\\utils.py:14: OutdatedPackageWarning: The package pingouin is out of date. Your version is 0.3.8, the latest is 0.3.9.\n",
      "Set the environment variable OUTDATED_IGNORE=1 to disable these warnings.\n",
      "  return warn(\n"
     ]
    },
    {
     "data": {
      "text/html": [
       "<div>\n",
       "<style scoped>\n",
       "    .dataframe tbody tr th:only-of-type {\n",
       "        vertical-align: middle;\n",
       "    }\n",
       "\n",
       "    .dataframe tbody tr th {\n",
       "        vertical-align: top;\n",
       "    }\n",
       "\n",
       "    .dataframe thead th {\n",
       "        text-align: right;\n",
       "    }\n",
       "</style>\n",
       "<table border=\"1\" class=\"dataframe\">\n",
       "  <thead>\n",
       "    <tr style=\"text-align: right;\">\n",
       "      <th></th>\n",
       "      <th>PassengerId</th>\n",
       "      <th>Survived</th>\n",
       "      <th>Pclass</th>\n",
       "      <th>Name</th>\n",
       "      <th>Sex</th>\n",
       "      <th>Age</th>\n",
       "      <th>SibSp</th>\n",
       "      <th>Parch</th>\n",
       "      <th>Ticket</th>\n",
       "      <th>Fare</th>\n",
       "      <th>Cabin</th>\n",
       "      <th>Embarked</th>\n",
       "    </tr>\n",
       "  </thead>\n",
       "  <tbody>\n",
       "    <tr>\n",
       "      <th>0</th>\n",
       "      <td>1</td>\n",
       "      <td>0</td>\n",
       "      <td>3</td>\n",
       "      <td>Braund, Mr. Owen Harris</td>\n",
       "      <td>male</td>\n",
       "      <td>22.0</td>\n",
       "      <td>1</td>\n",
       "      <td>0</td>\n",
       "      <td>A/5 21171</td>\n",
       "      <td>7.2500</td>\n",
       "      <td>NaN</td>\n",
       "      <td>S</td>\n",
       "    </tr>\n",
       "    <tr>\n",
       "      <th>1</th>\n",
       "      <td>2</td>\n",
       "      <td>1</td>\n",
       "      <td>1</td>\n",
       "      <td>Cumings, Mrs. John Bradley (Florence Briggs Th...</td>\n",
       "      <td>female</td>\n",
       "      <td>38.0</td>\n",
       "      <td>1</td>\n",
       "      <td>0</td>\n",
       "      <td>PC 17599</td>\n",
       "      <td>71.2833</td>\n",
       "      <td>C85</td>\n",
       "      <td>C</td>\n",
       "    </tr>\n",
       "    <tr>\n",
       "      <th>2</th>\n",
       "      <td>3</td>\n",
       "      <td>1</td>\n",
       "      <td>3</td>\n",
       "      <td>Heikkinen, Miss. Laina</td>\n",
       "      <td>female</td>\n",
       "      <td>26.0</td>\n",
       "      <td>0</td>\n",
       "      <td>0</td>\n",
       "      <td>STON/O2. 3101282</td>\n",
       "      <td>7.9250</td>\n",
       "      <td>NaN</td>\n",
       "      <td>S</td>\n",
       "    </tr>\n",
       "    <tr>\n",
       "      <th>3</th>\n",
       "      <td>4</td>\n",
       "      <td>1</td>\n",
       "      <td>1</td>\n",
       "      <td>Futrelle, Mrs. Jacques Heath (Lily May Peel)</td>\n",
       "      <td>female</td>\n",
       "      <td>35.0</td>\n",
       "      <td>1</td>\n",
       "      <td>0</td>\n",
       "      <td>113803</td>\n",
       "      <td>53.1000</td>\n",
       "      <td>C123</td>\n",
       "      <td>S</td>\n",
       "    </tr>\n",
       "    <tr>\n",
       "      <th>4</th>\n",
       "      <td>5</td>\n",
       "      <td>0</td>\n",
       "      <td>3</td>\n",
       "      <td>Allen, Mr. William Henry</td>\n",
       "      <td>male</td>\n",
       "      <td>35.0</td>\n",
       "      <td>0</td>\n",
       "      <td>0</td>\n",
       "      <td>373450</td>\n",
       "      <td>8.0500</td>\n",
       "      <td>NaN</td>\n",
       "      <td>S</td>\n",
       "    </tr>\n",
       "  </tbody>\n",
       "</table>\n",
       "</div>"
      ],
      "text/plain": [
       "   PassengerId  Survived  Pclass  \\\n",
       "0            1         0       3   \n",
       "1            2         1       1   \n",
       "2            3         1       3   \n",
       "3            4         1       1   \n",
       "4            5         0       3   \n",
       "\n",
       "                                                Name     Sex   Age  SibSp  \\\n",
       "0                            Braund, Mr. Owen Harris    male  22.0      1   \n",
       "1  Cumings, Mrs. John Bradley (Florence Briggs Th...  female  38.0      1   \n",
       "2                             Heikkinen, Miss. Laina  female  26.0      0   \n",
       "3       Futrelle, Mrs. Jacques Heath (Lily May Peel)  female  35.0      1   \n",
       "4                           Allen, Mr. William Henry    male  35.0      0   \n",
       "\n",
       "   Parch            Ticket     Fare Cabin Embarked  \n",
       "0      0         A/5 21171   7.2500   NaN        S  \n",
       "1      0          PC 17599  71.2833   C85        C  \n",
       "2      0  STON/O2. 3101282   7.9250   NaN        S  \n",
       "3      0            113803  53.1000  C123        S  \n",
       "4      0            373450   8.0500   NaN        S  "
      ]
     },
     "execution_count": 2,
     "metadata": {},
     "output_type": "execute_result"
    }
   ],
   "source": [
    "#1. import dataset\n",
    "\n",
    "titanic = pd.read_csv('titanic_train.csv')\n",
    "titanic.head()\n",
    "\n",
    "#sibsp = jml bawa sibling/spouse\n",
    "#parch = parent/children\n",
    "#fare = harga tiket\n",
    "#embark = keberangkatan"
   ]
  },
  {
   "cell_type": "code",
   "execution_count": 3,
   "metadata": {},
   "outputs": [
    {
     "data": {
      "image/png": "[encoded data removed]",
      "text/plain": [
       "<Figure size 432x288 with 2 Axes>"
      ]
     },
     "metadata": {
      "needs_background": "light"
     },
     "output_type": "display_data"
    }
   ],
   "source": [
    "#membuat heatplot untuk melihat data yg hilang\n",
    "\n",
    "sns.heatmap(titanic.isna())\n",
    "\n",
    "plt.show()"
   ]
  },
  {
   "cell_type": "code",
   "execution_count": 4,
   "metadata": {},
   "outputs": [
    {
     "data": {
      "text/plain": [
       "PassengerId     0.000000\n",
       "Survived        0.000000\n",
       "Pclass          0.000000\n",
       "Name            0.000000\n",
       "Sex             0.000000\n",
       "Age            19.865320\n",
       "SibSp           0.000000\n",
       "Parch           0.000000\n",
       "Ticket          0.000000\n",
       "Fare            0.000000\n",
       "Cabin          77.104377\n",
       "Embarked        0.224467\n",
       "dtype: float64"
      ]
     },
     "execution_count": 4,
     "metadata": {},
     "output_type": "execute_result"
    }
   ],
   "source": [
    "#melihat persentase null\n",
    "\n",
    "titanic.isna().sum()/len(titanic)*100\n",
    "\n",
    "#diatas 50 yg hilang == bisa dihapus\n",
    "#dibawah 50 yg hilang == bisa diimpute"
   ]
  },
  {
   "cell_type": "code",
   "execution_count": 5,
   "metadata": {},
   "outputs": [
    {
     "data": {
      "text/plain": [
       "NaN            687\n",
       "G6               4\n",
       "B96 B98          4\n",
       "C23 C25 C27      4\n",
       "C22 C26          3\n",
       "              ... \n",
       "D19              1\n",
       "E58              1\n",
       "A6               1\n",
       "B38              1\n",
       "B73              1\n",
       "Name: Cabin, Length: 148, dtype: int64"
      ]
     },
     "execution_count": 5,
     "metadata": {},
     "output_type": "execute_result"
    }
   ],
   "source": [
    "#Semisal cabin mau diakalin, bisa diimput dengan mengganti Nan menjadi none.\n",
    "#cek valuecount include null\n",
    "\n",
    "#tapi disini kita apus cabinnya\n",
    "titanic['Cabin'].value_counts(dropna = False)"
   ]
  },
  {
   "cell_type": "code",
   "execution_count": 6,
   "metadata": {},
   "outputs": [
    {
     "data": {
      "text/plain": [
       "Index(['passengerid', 'survived', 'pclass', 'name', 'sex', 'age', 'sibsp',\n",
       "       'parch', 'ticket', 'fare', 'cabin', 'embarked'],\n",
       "      dtype='object')"
      ]
     },
     "execution_count": 6,
     "metadata": {},
     "output_type": "execute_result"
    }
   ],
   "source": [
    "#biar nyaman,  nama columnnya kita lower\n",
    "\n",
    "titanic.columns = titanic.columns.str.lower()\n",
    "titanic.columns"
   ]
  },
  {
   "cell_type": "code",
   "execution_count": 7,
   "metadata": {},
   "outputs": [
    {
     "data": {
      "text/html": [
       "<div>\n",
       "<style scoped>\n",
       "    .dataframe tbody tr th:only-of-type {\n",
       "        vertical-align: middle;\n",
       "    }\n",
       "\n",
       "    .dataframe tbody tr th {\n",
       "        vertical-align: top;\n",
       "    }\n",
       "\n",
       "    .dataframe thead th {\n",
       "        text-align: right;\n",
       "    }\n",
       "</style>\n",
       "<table border=\"1\" class=\"dataframe\">\n",
       "  <thead>\n",
       "    <tr style=\"text-align: right;\">\n",
       "      <th></th>\n",
       "      <th>survived</th>\n",
       "      <th>pclass</th>\n",
       "      <th>name</th>\n",
       "      <th>sex</th>\n",
       "      <th>age</th>\n",
       "      <th>sibsp</th>\n",
       "      <th>parch</th>\n",
       "      <th>fare</th>\n",
       "      <th>embarked</th>\n",
       "    </tr>\n",
       "  </thead>\n",
       "  <tbody>\n",
       "    <tr>\n",
       "      <th>0</th>\n",
       "      <td>0</td>\n",
       "      <td>3</td>\n",
       "      <td>Braund, Mr. Owen Harris</td>\n",
       "      <td>male</td>\n",
       "      <td>22.0</td>\n",
       "      <td>1</td>\n",
       "      <td>0</td>\n",
       "      <td>7.2500</td>\n",
       "      <td>S</td>\n",
       "    </tr>\n",
       "    <tr>\n",
       "      <th>1</th>\n",
       "      <td>1</td>\n",
       "      <td>1</td>\n",
       "      <td>Cumings, Mrs. John Bradley (Florence Briggs Th...</td>\n",
       "      <td>female</td>\n",
       "      <td>38.0</td>\n",
       "      <td>1</td>\n",
       "      <td>0</td>\n",
       "      <td>71.2833</td>\n",
       "      <td>C</td>\n",
       "    </tr>\n",
       "    <tr>\n",
       "      <th>2</th>\n",
       "      <td>1</td>\n",
       "      <td>3</td>\n",
       "      <td>Heikkinen, Miss. Laina</td>\n",
       "      <td>female</td>\n",
       "      <td>26.0</td>\n",
       "      <td>0</td>\n",
       "      <td>0</td>\n",
       "      <td>7.9250</td>\n",
       "      <td>S</td>\n",
       "    </tr>\n",
       "    <tr>\n",
       "      <th>3</th>\n",
       "      <td>1</td>\n",
       "      <td>1</td>\n",
       "      <td>Futrelle, Mrs. Jacques Heath (Lily May Peel)</td>\n",
       "      <td>female</td>\n",
       "      <td>35.0</td>\n",
       "      <td>1</td>\n",
       "      <td>0</td>\n",
       "      <td>53.1000</td>\n",
       "      <td>S</td>\n",
       "    </tr>\n",
       "    <tr>\n",
       "      <th>4</th>\n",
       "      <td>0</td>\n",
       "      <td>3</td>\n",
       "      <td>Allen, Mr. William Henry</td>\n",
       "      <td>male</td>\n",
       "      <td>35.0</td>\n",
       "      <td>0</td>\n",
       "      <td>0</td>\n",
       "      <td>8.0500</td>\n",
       "      <td>S</td>\n",
       "    </tr>\n",
       "  </tbody>\n",
       "</table>\n",
       "</div>"
      ],
      "text/plain": [
       "   survived  pclass                                               name  \\\n",
       "0         0       3                            Braund, Mr. Owen Harris   \n",
       "1         1       1  Cumings, Mrs. John Bradley (Florence Briggs Th...   \n",
       "2         1       3                             Heikkinen, Miss. Laina   \n",
       "3         1       1       Futrelle, Mrs. Jacques Heath (Lily May Peel)   \n",
       "4         0       3                           Allen, Mr. William Henry   \n",
       "\n",
       "      sex   age  sibsp  parch     fare embarked  \n",
       "0    male  22.0      1      0   7.2500        S  \n",
       "1  female  38.0      1      0  71.2833        C  \n",
       "2  female  26.0      0      0   7.9250        S  \n",
       "3  female  35.0      1      0  53.1000        S  \n",
       "4    male  35.0      0      0   8.0500        S  "
      ]
     },
     "execution_count": 7,
     "metadata": {},
     "output_type": "execute_result"
    }
   ],
   "source": [
    "#apus kolom cabin, passengerid, ticket\n",
    "\n",
    "titanic.drop(['cabin', 'passengerid', 'ticket'], axis = 1, inplace = True)\n",
    "titanic.head()"
   ]
  },
  {
   "cell_type": "markdown",
   "metadata": {},
   "source": [
    "## __FEATURE ENGINEERING__\n",
    "- Mengotak-atik feature"
   ]
  },
  {
   "cell_type": "code",
   "execution_count": 8,
   "metadata": {},
   "outputs": [
    {
     "data": {
      "image/png": "[encoded data removed]",
      "text/plain": [
       "<Figure size 432x288 with 2 Axes>"
      ]
     },
     "metadata": {
      "needs_background": "light"
     },
     "output_type": "display_data"
    }
   ],
   "source": [
    "sns.heatmap(titanic.isna())\n",
    "\n",
    "plt.show()"
   ]
  },
  {
   "cell_type": "markdown",
   "metadata": {},
   "source": [
    "> ### __AGE__"
   ]
  },
  {
   "cell_type": "code",
   "execution_count": 9,
   "metadata": {},
   "outputs": [
    {
     "data": {
      "image/png": "[encoded data removed]",
      "text/plain": [
       "<Figure size 432x288 with 1 Axes>"
      ]
     },
     "metadata": {
      "needs_background": "light"
     },
     "output_type": "display_data"
    }
   ],
   "source": [
    "##normality test dengan plot\n",
    "\n",
    "sns.histplot(titanic.age)\n",
    "\n",
    "plt.show()"
   ]
  },
  {
   "cell_type": "code",
   "execution_count": 10,
   "metadata": {},
   "outputs": [
    {
     "data": {
      "text/plain": [
       "<AxesSubplot:title={'center':'Q-Q Plot'}, xlabel='Theoretical quantiles', ylabel='Ordered quantiles'>"
      ]
     },
     "execution_count": 10,
     "metadata": {},
     "output_type": "execute_result"
    },
    {
     "data": {
      "image/png": "[encoded data removed]",
      "text/plain": [
       "<Figure size 360x288 with 1 Axes>"
      ]
     },
     "metadata": {
      "needs_background": "light"
     },
     "output_type": "display_data"
    }
   ],
   "source": [
    "#normality test dengan qqplot\n",
    "\n",
    "pg.qqplot(titanic.age, dist = 'norm')\n",
    "\n",
    "#hasilnya cukup normal distribution"
   ]
  },
  {
   "cell_type": "markdown",
   "metadata": {},
   "source": [
    "> ### __EMBARKED__"
   ]
  },
  {
   "cell_type": "code",
   "execution_count": 11,
   "metadata": {},
   "outputs": [
    {
     "data": {
      "text/plain": [
       "S    644\n",
       "C    168\n",
       "Q     77\n",
       "Name: embarked, dtype: int64"
      ]
     },
     "execution_count": 11,
     "metadata": {},
     "output_type": "execute_result"
    }
   ],
   "source": [
    "titanic.embarked.value_counts()"
   ]
  },
  {
   "cell_type": "code",
   "execution_count": 12,
   "metadata": {},
   "outputs": [
    {
     "data": {
      "text/html": [
       "<div>\n",
       "<style scoped>\n",
       "    .dataframe tbody tr th:only-of-type {\n",
       "        vertical-align: middle;\n",
       "    }\n",
       "\n",
       "    .dataframe tbody tr th {\n",
       "        vertical-align: top;\n",
       "    }\n",
       "\n",
       "    .dataframe thead th {\n",
       "        text-align: right;\n",
       "    }\n",
       "</style>\n",
       "<table border=\"1\" class=\"dataframe\">\n",
       "  <thead>\n",
       "    <tr style=\"text-align: right;\">\n",
       "      <th></th>\n",
       "      <th>survived</th>\n",
       "      <th>pclass</th>\n",
       "      <th>name</th>\n",
       "      <th>sex</th>\n",
       "      <th>age</th>\n",
       "      <th>sibsp</th>\n",
       "      <th>parch</th>\n",
       "      <th>fare</th>\n",
       "      <th>embarked</th>\n",
       "    </tr>\n",
       "  </thead>\n",
       "  <tbody>\n",
       "    <tr>\n",
       "      <th>61</th>\n",
       "      <td>1</td>\n",
       "      <td>1</td>\n",
       "      <td>Icard, Miss. Amelie</td>\n",
       "      <td>female</td>\n",
       "      <td>38.0</td>\n",
       "      <td>0</td>\n",
       "      <td>0</td>\n",
       "      <td>80.0</td>\n",
       "      <td>NaN</td>\n",
       "    </tr>\n",
       "    <tr>\n",
       "      <th>829</th>\n",
       "      <td>1</td>\n",
       "      <td>1</td>\n",
       "      <td>Stone, Mrs. George Nelson (Martha Evelyn)</td>\n",
       "      <td>female</td>\n",
       "      <td>62.0</td>\n",
       "      <td>0</td>\n",
       "      <td>0</td>\n",
       "      <td>80.0</td>\n",
       "      <td>NaN</td>\n",
       "    </tr>\n",
       "  </tbody>\n",
       "</table>\n",
       "</div>"
      ],
      "text/plain": [
       "     survived  pclass                                       name     sex  \\\n",
       "61          1       1                        Icard, Miss. Amelie  female   \n",
       "829         1       1  Stone, Mrs. George Nelson (Martha Evelyn)  female   \n",
       "\n",
       "      age  sibsp  parch  fare embarked  \n",
       "61   38.0      0      0  80.0      NaN  \n",
       "829  62.0      0      0  80.0      NaN  "
      ]
     },
     "execution_count": 12,
     "metadata": {},
     "output_type": "execute_result"
    }
   ],
   "source": [
    "titanic[titanic['embarked'].isna() ==  True]"
   ]
  },
  {
   "cell_type": "code",
   "execution_count": 13,
   "metadata": {},
   "outputs": [
    {
     "data": {
      "image/png": "[encoded data removed]",
      "text/plain": [
       "<Figure size 432x288 with 1 Axes>"
      ]
     },
     "metadata": {
      "needs_background": "light"
     },
     "output_type": "display_data"
    }
   ],
   "source": [
    "#membuat plot ...\n",
    "\n",
    "sns.histplot(titanic.fare)\n",
    "plt.show()"
   ]
  },
  {
   "cell_type": "code",
   "execution_count": 14,
   "metadata": {},
   "outputs": [
    {
     "data": {
      "text/html": [
       "<div>\n",
       "<style scoped>\n",
       "    .dataframe tbody tr th:only-of-type {\n",
       "        vertical-align: middle;\n",
       "    }\n",
       "\n",
       "    .dataframe tbody tr th {\n",
       "        vertical-align: top;\n",
       "    }\n",
       "\n",
       "    .dataframe thead th {\n",
       "        text-align: right;\n",
       "    }\n",
       "</style>\n",
       "<table border=\"1\" class=\"dataframe\">\n",
       "  <thead>\n",
       "    <tr style=\"text-align: right;\">\n",
       "      <th>pclass</th>\n",
       "      <th>1</th>\n",
       "      <th>2</th>\n",
       "      <th>3</th>\n",
       "    </tr>\n",
       "    <tr>\n",
       "      <th>embarked</th>\n",
       "      <th></th>\n",
       "      <th></th>\n",
       "      <th></th>\n",
       "    </tr>\n",
       "  </thead>\n",
       "  <tbody>\n",
       "    <tr>\n",
       "      <th>C</th>\n",
       "      <td>104.718529</td>\n",
       "      <td>25.358335</td>\n",
       "      <td>11.214083</td>\n",
       "    </tr>\n",
       "    <tr>\n",
       "      <th>Q</th>\n",
       "      <td>90.000000</td>\n",
       "      <td>12.350000</td>\n",
       "      <td>11.183393</td>\n",
       "    </tr>\n",
       "    <tr>\n",
       "      <th>S</th>\n",
       "      <td>70.364862</td>\n",
       "      <td>20.327439</td>\n",
       "      <td>14.644083</td>\n",
       "    </tr>\n",
       "  </tbody>\n",
       "</table>\n",
       "</div>"
      ],
      "text/plain": [
       "pclass             1          2          3\n",
       "embarked                                  \n",
       "C         104.718529  25.358335  11.214083\n",
       "Q          90.000000  12.350000  11.183393\n",
       "S          70.364862  20.327439  14.644083"
      ]
     },
     "execution_count": 14,
     "metadata": {},
     "output_type": "execute_result"
    }
   ],
   "source": [
    "#mencari rata2 harga berdasarkan kelas dan tempat keberangkatan\n",
    "\n",
    "pd.crosstab(index = titanic.embarked, columns = titanic.pclass, values = titanic.fare, aggfunc = np.mean)"
   ]
  },
  {
   "cell_type": "code",
   "execution_count": 15,
   "metadata": {},
   "outputs": [
    {
     "data": {
      "text/html": [
       "<div>\n",
       "<style scoped>\n",
       "    .dataframe tbody tr th:only-of-type {\n",
       "        vertical-align: middle;\n",
       "    }\n",
       "\n",
       "    .dataframe tbody tr th {\n",
       "        vertical-align: top;\n",
       "    }\n",
       "\n",
       "    .dataframe thead th {\n",
       "        text-align: right;\n",
       "    }\n",
       "</style>\n",
       "<table border=\"1\" class=\"dataframe\">\n",
       "  <thead>\n",
       "    <tr style=\"text-align: right;\">\n",
       "      <th>sex</th>\n",
       "      <th>female</th>\n",
       "      <th>male</th>\n",
       "    </tr>\n",
       "    <tr>\n",
       "      <th>embarked</th>\n",
       "      <th></th>\n",
       "      <th></th>\n",
       "    </tr>\n",
       "  </thead>\n",
       "  <tbody>\n",
       "    <tr>\n",
       "      <th>C</th>\n",
       "      <td>0.233974</td>\n",
       "      <td>0.164645</td>\n",
       "    </tr>\n",
       "    <tr>\n",
       "      <th>Q</th>\n",
       "      <td>0.115385</td>\n",
       "      <td>0.071057</td>\n",
       "    </tr>\n",
       "    <tr>\n",
       "      <th>S</th>\n",
       "      <td>0.650641</td>\n",
       "      <td>0.764298</td>\n",
       "    </tr>\n",
       "  </tbody>\n",
       "</table>\n",
       "</div>"
      ],
      "text/plain": [
       "sex         female      male\n",
       "embarked                    \n",
       "C         0.233974  0.164645\n",
       "Q         0.115385  0.071057\n",
       "S         0.650641  0.764298"
      ]
     },
     "execution_count": 15,
     "metadata": {},
     "output_type": "execute_result"
    }
   ],
   "source": [
    "#mencari jumlah perempuan berdasarkan keberangkatan\n",
    "\n",
    "pd.crosstab(index = titanic.embarked, columns = titanic.sex, normalize = 1)\n",
    "\n",
    "#dari semua yg female yg ditatnic, kebanyaan berangkat dari S"
   ]
  },
  {
   "cell_type": "markdown",
   "metadata": {},
   "source": [
    "> ### __NAME__"
   ]
  },
  {
   "cell_type": "code",
   "execution_count": 16,
   "metadata": {},
   "outputs": [
    {
     "data": {
      "text/html": [
       "<div>\n",
       "<style scoped>\n",
       "    .dataframe tbody tr th:only-of-type {\n",
       "        vertical-align: middle;\n",
       "    }\n",
       "\n",
       "    .dataframe tbody tr th {\n",
       "        vertical-align: top;\n",
       "    }\n",
       "\n",
       "    .dataframe thead th {\n",
       "        text-align: right;\n",
       "    }\n",
       "</style>\n",
       "<table border=\"1\" class=\"dataframe\">\n",
       "  <thead>\n",
       "    <tr style=\"text-align: right;\">\n",
       "      <th></th>\n",
       "      <th>survived</th>\n",
       "      <th>pclass</th>\n",
       "      <th>name</th>\n",
       "      <th>sex</th>\n",
       "      <th>age</th>\n",
       "      <th>sibsp</th>\n",
       "      <th>parch</th>\n",
       "      <th>fare</th>\n",
       "      <th>embarked</th>\n",
       "      <th>title</th>\n",
       "    </tr>\n",
       "  </thead>\n",
       "  <tbody>\n",
       "    <tr>\n",
       "      <th>0</th>\n",
       "      <td>0</td>\n",
       "      <td>3</td>\n",
       "      <td>Braund, Mr. Owen Harris</td>\n",
       "      <td>male</td>\n",
       "      <td>22.0</td>\n",
       "      <td>1</td>\n",
       "      <td>0</td>\n",
       "      <td>7.2500</td>\n",
       "      <td>S</td>\n",
       "      <td>Mr</td>\n",
       "    </tr>\n",
       "    <tr>\n",
       "      <th>1</th>\n",
       "      <td>1</td>\n",
       "      <td>1</td>\n",
       "      <td>Cumings, Mrs. John Bradley (Florence Briggs Th...</td>\n",
       "      <td>female</td>\n",
       "      <td>38.0</td>\n",
       "      <td>1</td>\n",
       "      <td>0</td>\n",
       "      <td>71.2833</td>\n",
       "      <td>C</td>\n",
       "      <td>Mrs</td>\n",
       "    </tr>\n",
       "    <tr>\n",
       "      <th>2</th>\n",
       "      <td>1</td>\n",
       "      <td>3</td>\n",
       "      <td>Heikkinen, Miss. Laina</td>\n",
       "      <td>female</td>\n",
       "      <td>26.0</td>\n",
       "      <td>0</td>\n",
       "      <td>0</td>\n",
       "      <td>7.9250</td>\n",
       "      <td>S</td>\n",
       "      <td>Miss</td>\n",
       "    </tr>\n",
       "    <tr>\n",
       "      <th>3</th>\n",
       "      <td>1</td>\n",
       "      <td>1</td>\n",
       "      <td>Futrelle, Mrs. Jacques Heath (Lily May Peel)</td>\n",
       "      <td>female</td>\n",
       "      <td>35.0</td>\n",
       "      <td>1</td>\n",
       "      <td>0</td>\n",
       "      <td>53.1000</td>\n",
       "      <td>S</td>\n",
       "      <td>Mrs</td>\n",
       "    </tr>\n",
       "    <tr>\n",
       "      <th>4</th>\n",
       "      <td>0</td>\n",
       "      <td>3</td>\n",
       "      <td>Allen, Mr. William Henry</td>\n",
       "      <td>male</td>\n",
       "      <td>35.0</td>\n",
       "      <td>0</td>\n",
       "      <td>0</td>\n",
       "      <td>8.0500</td>\n",
       "      <td>S</td>\n",
       "      <td>Mr</td>\n",
       "    </tr>\n",
       "  </tbody>\n",
       "</table>\n",
       "</div>"
      ],
      "text/plain": [
       "   survived  pclass                                               name  \\\n",
       "0         0       3                            Braund, Mr. Owen Harris   \n",
       "1         1       1  Cumings, Mrs. John Bradley (Florence Briggs Th...   \n",
       "2         1       3                             Heikkinen, Miss. Laina   \n",
       "3         1       1       Futrelle, Mrs. Jacques Heath (Lily May Peel)   \n",
       "4         0       3                           Allen, Mr. William Henry   \n",
       "\n",
       "      sex   age  sibsp  parch     fare embarked  title  \n",
       "0    male  22.0      1      0   7.2500        S     Mr  \n",
       "1  female  38.0      1      0  71.2833        C    Mrs  \n",
       "2  female  26.0      0      0   7.9250        S   Miss  \n",
       "3  female  35.0      1      0  53.1000        S    Mrs  \n",
       "4    male  35.0      0      0   8.0500        S     Mr  "
      ]
     },
     "execution_count": 16,
     "metadata": {},
     "output_type": "execute_result"
    }
   ],
   "source": [
    "#mengambil gelar dari nama\n",
    "\n",
    "#titanic['name'].str.split(',')\n",
    "# titanic['name'].str.split(',').str[1]\n",
    "# titanic['name'].str.split(',').str[1].str.split('.')\n",
    "titanic['title'] = titanic['name'].str.split(',').str[1].str.split('.').str[0]\n",
    "\n",
    "titanic.head()"
   ]
  },
  {
   "cell_type": "code",
   "execution_count": 17,
   "metadata": {},
   "outputs": [
    {
     "data": {
      "text/plain": [
       "array([' Mr', ' Mrs', ' Miss', ' Master', ' Don', ' Rev', ' Dr', ' Mme',\n",
       "       ' Ms', ' Major', ' Lady', ' Sir', ' Mlle', ' Col', ' Capt',\n",
       "       ' the Countess', ' Jonkheer'], dtype=object)"
      ]
     },
     "execution_count": 17,
     "metadata": {},
     "output_type": "execute_result"
    }
   ],
   "source": [
    "#mengecek nunique dari title\n",
    "\n",
    "titanic.title.unique()"
   ]
  },
  {
   "cell_type": "code",
   "execution_count": 18,
   "metadata": {},
   "outputs": [],
   "source": [
    "#menghapus kolom name (harus diapus karena string dan tidak akan dinumerikal)\n",
    "\n",
    "titanic.drop(['name'], axis = 1, inplace = True)"
   ]
  },
  {
   "cell_type": "markdown",
   "metadata": {},
   "source": [
    "## __EDA__\n",
    "\n",
    "- EDA lebih ke target variable"
   ]
  },
  {
   "cell_type": "code",
   "execution_count": 19,
   "metadata": {},
   "outputs": [
    {
     "data": {
      "text/html": [
       "<div>\n",
       "<style scoped>\n",
       "    .dataframe tbody tr th:only-of-type {\n",
       "        vertical-align: middle;\n",
       "    }\n",
       "\n",
       "    .dataframe tbody tr th {\n",
       "        vertical-align: top;\n",
       "    }\n",
       "\n",
       "    .dataframe thead th {\n",
       "        text-align: right;\n",
       "    }\n",
       "</style>\n",
       "<table border=\"1\" class=\"dataframe\">\n",
       "  <thead>\n",
       "    <tr style=\"text-align: right;\">\n",
       "      <th></th>\n",
       "      <th>survived</th>\n",
       "      <th>pclass</th>\n",
       "      <th>sex</th>\n",
       "      <th>age</th>\n",
       "      <th>sibsp</th>\n",
       "      <th>parch</th>\n",
       "      <th>fare</th>\n",
       "      <th>embarked</th>\n",
       "      <th>title</th>\n",
       "    </tr>\n",
       "  </thead>\n",
       "  <tbody>\n",
       "    <tr>\n",
       "      <th>0</th>\n",
       "      <td>0</td>\n",
       "      <td>3</td>\n",
       "      <td>male</td>\n",
       "      <td>22.0</td>\n",
       "      <td>1</td>\n",
       "      <td>0</td>\n",
       "      <td>7.2500</td>\n",
       "      <td>S</td>\n",
       "      <td>Mr</td>\n",
       "    </tr>\n",
       "    <tr>\n",
       "      <th>1</th>\n",
       "      <td>1</td>\n",
       "      <td>1</td>\n",
       "      <td>female</td>\n",
       "      <td>38.0</td>\n",
       "      <td>1</td>\n",
       "      <td>0</td>\n",
       "      <td>71.2833</td>\n",
       "      <td>C</td>\n",
       "      <td>Mrs</td>\n",
       "    </tr>\n",
       "    <tr>\n",
       "      <th>2</th>\n",
       "      <td>1</td>\n",
       "      <td>3</td>\n",
       "      <td>female</td>\n",
       "      <td>26.0</td>\n",
       "      <td>0</td>\n",
       "      <td>0</td>\n",
       "      <td>7.9250</td>\n",
       "      <td>S</td>\n",
       "      <td>Miss</td>\n",
       "    </tr>\n",
       "    <tr>\n",
       "      <th>3</th>\n",
       "      <td>1</td>\n",
       "      <td>1</td>\n",
       "      <td>female</td>\n",
       "      <td>35.0</td>\n",
       "      <td>1</td>\n",
       "      <td>0</td>\n",
       "      <td>53.1000</td>\n",
       "      <td>S</td>\n",
       "      <td>Mrs</td>\n",
       "    </tr>\n",
       "    <tr>\n",
       "      <th>4</th>\n",
       "      <td>0</td>\n",
       "      <td>3</td>\n",
       "      <td>male</td>\n",
       "      <td>35.0</td>\n",
       "      <td>0</td>\n",
       "      <td>0</td>\n",
       "      <td>8.0500</td>\n",
       "      <td>S</td>\n",
       "      <td>Mr</td>\n",
       "    </tr>\n",
       "  </tbody>\n",
       "</table>\n",
       "</div>"
      ],
      "text/plain": [
       "   survived  pclass     sex   age  sibsp  parch     fare embarked  title\n",
       "0         0       3    male  22.0      1      0   7.2500        S     Mr\n",
       "1         1       1  female  38.0      1      0  71.2833        C    Mrs\n",
       "2         1       3  female  26.0      0      0   7.9250        S   Miss\n",
       "3         1       1  female  35.0      1      0  53.1000        S    Mrs\n",
       "4         0       3    male  35.0      0      0   8.0500        S     Mr"
      ]
     },
     "execution_count": 19,
     "metadata": {},
     "output_type": "execute_result"
    }
   ],
   "source": [
    "titanic.head()"
   ]
  },
  {
   "cell_type": "markdown",
   "metadata": {},
   "source": [
    "> ### __SURVIVED__"
   ]
  },
  {
   "cell_type": "code",
   "execution_count": 20,
   "metadata": {},
   "outputs": [
    {
     "data": {
      "text/plain": [
       "<AxesSubplot:ylabel='survived'>"
      ]
     },
     "execution_count": 20,
     "metadata": {},
     "output_type": "execute_result"
    },
    {
     "data": {
      "image/png": "[encoded data removed]",
      "text/plain": [
       "<Figure size 432x288 with 1 Axes>"
      ]
     },
     "metadata": {},
     "output_type": "display_data"
    }
   ],
   "source": [
    "titanic.survived.value_counts(normalize = True).plot(kind = 'pie')"
   ]
  },
  {
   "cell_type": "markdown",
   "metadata": {},
   "source": [
    "> ### __SURVIVED & FARE__"
   ]
  },
  {
   "cell_type": "markdown",
   "metadata": {},
   "source": [
    "sns.histplot(titanic[titanic['survived'] == 0][fare], label = 'Not Survived')\n",
    "sns.histplot(titanic[titanic['survived'] == 1][fare], label = 'Survived')\n",
    "plt.legend()\n",
    "plt.plot()"
   ]
  },
  {
   "cell_type": "markdown",
   "metadata": {},
   "source": [
    "> ### __SURVIVED & SEX__"
   ]
  },
  {
   "cell_type": "code",
   "execution_count": 21,
   "metadata": {},
   "outputs": [
    {
     "data": {
      "image/png": "[encoded data removed]",
      "text/plain": [
       "<Figure size 432x288 with 1 Axes>"
      ]
     },
     "metadata": {
      "needs_background": "light"
     },
     "output_type": "display_data"
    }
   ],
   "source": [
    "sns.countplot(x ='sex', hue = 'survived', data = titanic)\n",
    "plt.show()\n",
    "\n",
    "\n",
    "#Yang female lebih kecil ....."
   ]
  },
  {
   "cell_type": "code",
   "execution_count": 22,
   "metadata": {},
   "outputs": [
    {
     "data": {
      "text/html": [
       "<div>\n",
       "<style scoped>\n",
       "    .dataframe tbody tr th:only-of-type {\n",
       "        vertical-align: middle;\n",
       "    }\n",
       "\n",
       "    .dataframe tbody tr th {\n",
       "        vertical-align: top;\n",
       "    }\n",
       "\n",
       "    .dataframe thead th {\n",
       "        text-align: right;\n",
       "    }\n",
       "</style>\n",
       "<table border=\"1\" class=\"dataframe\">\n",
       "  <thead>\n",
       "    <tr style=\"text-align: right;\">\n",
       "      <th>survived</th>\n",
       "      <th>0</th>\n",
       "      <th>1</th>\n",
       "    </tr>\n",
       "    <tr>\n",
       "      <th>sex</th>\n",
       "      <th></th>\n",
       "      <th></th>\n",
       "    </tr>\n",
       "  </thead>\n",
       "  <tbody>\n",
       "    <tr>\n",
       "      <th>female</th>\n",
       "      <td>0.257962</td>\n",
       "      <td>0.742038</td>\n",
       "    </tr>\n",
       "    <tr>\n",
       "      <th>male</th>\n",
       "      <td>0.811092</td>\n",
       "      <td>0.188908</td>\n",
       "    </tr>\n",
       "  </tbody>\n",
       "</table>\n",
       "</div>"
      ],
      "text/plain": [
       "survived         0         1\n",
       "sex                         \n",
       "female    0.257962  0.742038\n",
       "male      0.811092  0.188908"
      ]
     },
     "execution_count": 22,
     "metadata": {},
     "output_type": "execute_result"
    }
   ],
   "source": [
    "#menghitung ratio selamat berdasarkan sex\n",
    "\n",
    "pd.crosstab(index = titanic['sex'], columns = titanic['survived'], normalize = 0)\n",
    "\n",
    "\n",
    "#female kecenderungan selamat sebanyak 74%, sedangkan lelaki 18%"
   ]
  },
  {
   "cell_type": "code",
   "execution_count": 23,
   "metadata": {},
   "outputs": [
    {
     "name": "stderr",
     "output_type": "stream",
     "text": [
      "C:\\Users\\asus\\anaconda3\\lib\\site-packages\\seaborn\\categorical.py:1296: UserWarning: 71.1% of the points cannot be placed; you may want to decrease the size of the markers or use stripplot.\n",
      "  warnings.warn(msg, UserWarning)\n",
      "C:\\Users\\asus\\anaconda3\\lib\\site-packages\\seaborn\\categorical.py:1296: UserWarning: 48.4% of the points cannot be placed; you may want to decrease the size of the markers or use stripplot.\n",
      "  warnings.warn(msg, UserWarning)\n"
     ]
    },
    {
     "data": {
      "image/png": "[encoded data removed]",
      "text/plain": [
       "<Figure size 432x288 with 1 Axes>"
      ]
     },
     "metadata": {
      "needs_background": "light"
     },
     "output_type": "display_data"
    }
   ],
   "source": [
    "#menghitung ratio selamat berdasarkan sex dan fare\n",
    "\n",
    "sns.swarmplot(y=\"fare\", x=\"sex\", hue=\"survived\", data=titanic)\n",
    "plt.show()"
   ]
  },
  {
   "cell_type": "markdown",
   "metadata": {},
   "source": [
    "> ### __SURVIVED & SIBLINGS__"
   ]
  },
  {
   "cell_type": "code",
   "execution_count": 24,
   "metadata": {},
   "outputs": [
    {
     "data": {
      "text/plain": [
       "array([1, 0, 3, 4, 2, 5, 8], dtype=int64)"
      ]
     },
     "execution_count": 24,
     "metadata": {},
     "output_type": "execute_result"
    }
   ],
   "source": [
    "titanic['sibsp'].unique()"
   ]
  },
  {
   "cell_type": "code",
   "execution_count": 25,
   "metadata": {},
   "outputs": [
    {
     "data": {
      "text/plain": [
       "<AxesSubplot:xlabel='sibsp'>"
      ]
     },
     "execution_count": 25,
     "metadata": {},
     "output_type": "execute_result"
    },
    {
     "data": {
      "image/png": "[encoded data removed]",
      "text/plain": [
       "<Figure size 432x288 with 1 Axes>"
      ]
     },
     "metadata": {
      "needs_background": "light"
     },
     "output_type": "display_data"
    }
   ],
   "source": [
    "pd.crosstab(titanic['sibsp'], titanic['survived'], normalize = 0).plot(kind = 'bar', stacked = True)\n",
    "\n",
    "#yg sendirian, cenderung tidak selamat\n",
    "#jika membawa satu, agak cenderung masih selamat\n",
    "# diatas 2, cenderung tidak selamat"
   ]
  },
  {
   "cell_type": "code",
   "execution_count": 26,
   "metadata": {},
   "outputs": [
    {
     "data": {
      "text/html": [
       "<div>\n",
       "<style scoped>\n",
       "    .dataframe tbody tr th:only-of-type {\n",
       "        vertical-align: middle;\n",
       "    }\n",
       "\n",
       "    .dataframe tbody tr th {\n",
       "        vertical-align: top;\n",
       "    }\n",
       "\n",
       "    .dataframe thead th {\n",
       "        text-align: right;\n",
       "    }\n",
       "</style>\n",
       "<table border=\"1\" class=\"dataframe\">\n",
       "  <thead>\n",
       "    <tr style=\"text-align: right;\">\n",
       "      <th>survived</th>\n",
       "      <th>0</th>\n",
       "      <th>1</th>\n",
       "    </tr>\n",
       "    <tr>\n",
       "      <th>sibsp</th>\n",
       "      <th></th>\n",
       "      <th></th>\n",
       "    </tr>\n",
       "  </thead>\n",
       "  <tbody>\n",
       "    <tr>\n",
       "      <th>0</th>\n",
       "      <td>0.654605</td>\n",
       "      <td>0.345395</td>\n",
       "    </tr>\n",
       "    <tr>\n",
       "      <th>1</th>\n",
       "      <td>0.464115</td>\n",
       "      <td>0.535885</td>\n",
       "    </tr>\n",
       "    <tr>\n",
       "      <th>2</th>\n",
       "      <td>0.535714</td>\n",
       "      <td>0.464286</td>\n",
       "    </tr>\n",
       "    <tr>\n",
       "      <th>3</th>\n",
       "      <td>0.750000</td>\n",
       "      <td>0.250000</td>\n",
       "    </tr>\n",
       "    <tr>\n",
       "      <th>4</th>\n",
       "      <td>0.833333</td>\n",
       "      <td>0.166667</td>\n",
       "    </tr>\n",
       "    <tr>\n",
       "      <th>5</th>\n",
       "      <td>1.000000</td>\n",
       "      <td>0.000000</td>\n",
       "    </tr>\n",
       "    <tr>\n",
       "      <th>8</th>\n",
       "      <td>1.000000</td>\n",
       "      <td>0.000000</td>\n",
       "    </tr>\n",
       "  </tbody>\n",
       "</table>\n",
       "</div>"
      ],
      "text/plain": [
       "survived         0         1\n",
       "sibsp                       \n",
       "0         0.654605  0.345395\n",
       "1         0.464115  0.535885\n",
       "2         0.535714  0.464286\n",
       "3         0.750000  0.250000\n",
       "4         0.833333  0.166667\n",
       "5         1.000000  0.000000\n",
       "8         1.000000  0.000000"
      ]
     },
     "execution_count": 26,
     "metadata": {},
     "output_type": "execute_result"
    }
   ],
   "source": [
    "pd.crosstab(titanic['sibsp'], titanic['survived'], normalize = 0)"
   ]
  },
  {
   "cell_type": "code",
   "execution_count": 27,
   "metadata": {},
   "outputs": [
    {
     "data": {
      "text/html": [
       "<div>\n",
       "<style scoped>\n",
       "    .dataframe tbody tr th:only-of-type {\n",
       "        vertical-align: middle;\n",
       "    }\n",
       "\n",
       "    .dataframe tbody tr th {\n",
       "        vertical-align: top;\n",
       "    }\n",
       "\n",
       "    .dataframe thead th {\n",
       "        text-align: right;\n",
       "    }\n",
       "</style>\n",
       "<table border=\"1\" class=\"dataframe\">\n",
       "  <thead>\n",
       "    <tr style=\"text-align: right;\">\n",
       "      <th></th>\n",
       "      <th>survived</th>\n",
       "      <th>pclass</th>\n",
       "      <th>sex</th>\n",
       "      <th>age</th>\n",
       "      <th>sibsp</th>\n",
       "      <th>parch</th>\n",
       "      <th>fare</th>\n",
       "      <th>embarked</th>\n",
       "      <th>title</th>\n",
       "    </tr>\n",
       "  </thead>\n",
       "  <tbody>\n",
       "    <tr>\n",
       "      <th>159</th>\n",
       "      <td>0</td>\n",
       "      <td>3</td>\n",
       "      <td>male</td>\n",
       "      <td>NaN</td>\n",
       "      <td>8</td>\n",
       "      <td>2</td>\n",
       "      <td>69.55</td>\n",
       "      <td>S</td>\n",
       "      <td>Master</td>\n",
       "    </tr>\n",
       "    <tr>\n",
       "      <th>180</th>\n",
       "      <td>0</td>\n",
       "      <td>3</td>\n",
       "      <td>female</td>\n",
       "      <td>NaN</td>\n",
       "      <td>8</td>\n",
       "      <td>2</td>\n",
       "      <td>69.55</td>\n",
       "      <td>S</td>\n",
       "      <td>Miss</td>\n",
       "    </tr>\n",
       "    <tr>\n",
       "      <th>201</th>\n",
       "      <td>0</td>\n",
       "      <td>3</td>\n",
       "      <td>male</td>\n",
       "      <td>NaN</td>\n",
       "      <td>8</td>\n",
       "      <td>2</td>\n",
       "      <td>69.55</td>\n",
       "      <td>S</td>\n",
       "      <td>Mr</td>\n",
       "    </tr>\n",
       "    <tr>\n",
       "      <th>324</th>\n",
       "      <td>0</td>\n",
       "      <td>3</td>\n",
       "      <td>male</td>\n",
       "      <td>NaN</td>\n",
       "      <td>8</td>\n",
       "      <td>2</td>\n",
       "      <td>69.55</td>\n",
       "      <td>S</td>\n",
       "      <td>Mr</td>\n",
       "    </tr>\n",
       "    <tr>\n",
       "      <th>792</th>\n",
       "      <td>0</td>\n",
       "      <td>3</td>\n",
       "      <td>female</td>\n",
       "      <td>NaN</td>\n",
       "      <td>8</td>\n",
       "      <td>2</td>\n",
       "      <td>69.55</td>\n",
       "      <td>S</td>\n",
       "      <td>Miss</td>\n",
       "    </tr>\n",
       "    <tr>\n",
       "      <th>846</th>\n",
       "      <td>0</td>\n",
       "      <td>3</td>\n",
       "      <td>male</td>\n",
       "      <td>NaN</td>\n",
       "      <td>8</td>\n",
       "      <td>2</td>\n",
       "      <td>69.55</td>\n",
       "      <td>S</td>\n",
       "      <td>Mr</td>\n",
       "    </tr>\n",
       "    <tr>\n",
       "      <th>863</th>\n",
       "      <td>0</td>\n",
       "      <td>3</td>\n",
       "      <td>female</td>\n",
       "      <td>NaN</td>\n",
       "      <td>8</td>\n",
       "      <td>2</td>\n",
       "      <td>69.55</td>\n",
       "      <td>S</td>\n",
       "      <td>Miss</td>\n",
       "    </tr>\n",
       "  </tbody>\n",
       "</table>\n",
       "</div>"
      ],
      "text/plain": [
       "     survived  pclass     sex  age  sibsp  parch   fare embarked    title\n",
       "159         0       3    male  NaN      8      2  69.55        S   Master\n",
       "180         0       3  female  NaN      8      2  69.55        S     Miss\n",
       "201         0       3    male  NaN      8      2  69.55        S       Mr\n",
       "324         0       3    male  NaN      8      2  69.55        S       Mr\n",
       "792         0       3  female  NaN      8      2  69.55        S     Miss\n",
       "846         0       3    male  NaN      8      2  69.55        S       Mr\n",
       "863         0       3  female  NaN      8      2  69.55        S     Miss"
      ]
     },
     "execution_count": 27,
     "metadata": {},
     "output_type": "execute_result"
    }
   ],
   "source": [
    "#keluarga yg ber8\n",
    "\n",
    "titanic[titanic['sibsp'] == 8]\n",
    "\n",
    "#sekeluarga sama, keberangkatan sama, "
   ]
  },
  {
   "cell_type": "markdown",
   "metadata": {},
   "source": [
    "> ### __SURVIVED & EMBARKED__"
   ]
  },
  {
   "cell_type": "code",
   "execution_count": 28,
   "metadata": {},
   "outputs": [
    {
     "data": {
      "image/png": "[encoded data removed]",
      "text/plain": [
       "<Figure size 432x288 with 1 Axes>"
      ]
     },
     "metadata": {},
     "output_type": "display_data"
    }
   ],
   "source": [
    "#Membuat donat plot\n",
    "\n",
    "#a. membuat df baru berdasarkan groupby embarked\n",
    "by_embarked = titanic.groupby('embarked')['survived'].value_counts().to_frame().rename(columns={'survived': 'freq'}).reset_index().sort_values('survived')\n",
    "\n",
    "# Make data: I have 2 groups and 3 subgroups\n",
    "group_names=titanic['survived'].value_counts().index\n",
    "group_size=titanic['survived'].value_counts()\n",
    "subgroup_names=by_embarked['embarked']\n",
    "subgroup_size=by_embarked['freq']\n",
    " \n",
    "# Create colors\n",
    "a, b, c = [plt.cm.Blues, plt.cm.Reds, plt.cm.Greens]\n",
    " \n",
    "# First Ring (outside)\n",
    "fig, ax = plt.subplots()\n",
    "fig.suptitle('Survived by Embarked')\n",
    "ax.axis('equal')\n",
    "mypie, _ = ax.pie(group_size, radius=1.3, labels=group_names, colors=[a(0.6), b(0.6)])\n",
    "plt.setp( mypie, width=0.3, edgecolor='white')\n",
    " \n",
    "# Second Ring (Inside)\n",
    "mypie2, _ = ax.pie(subgroup_size, radius=1.3-0.3, labels=subgroup_names, labeldistance=0.7, colors=[a(0.5), a(0.4), a(0.3), b(0.5), b(0.4), b(0.3)])\n",
    "plt.setp( mypie2, width=0.4, edgecolor='white')\n",
    "plt.margins(0,0)"
   ]
  },
  {
   "cell_type": "code",
   "execution_count": 29,
   "metadata": {},
   "outputs": [
    {
     "data": {
      "text/html": [
       "<div>\n",
       "<style scoped>\n",
       "    .dataframe tbody tr th:only-of-type {\n",
       "        vertical-align: middle;\n",
       "    }\n",
       "\n",
       "    .dataframe tbody tr th {\n",
       "        vertical-align: top;\n",
       "    }\n",
       "\n",
       "    .dataframe thead th {\n",
       "        text-align: right;\n",
       "    }\n",
       "</style>\n",
       "<table border=\"1\" class=\"dataframe\">\n",
       "  <thead>\n",
       "    <tr style=\"text-align: right;\">\n",
       "      <th>survived</th>\n",
       "      <th>0</th>\n",
       "      <th>1</th>\n",
       "    </tr>\n",
       "    <tr>\n",
       "      <th>embarked</th>\n",
       "      <th></th>\n",
       "      <th></th>\n",
       "    </tr>\n",
       "  </thead>\n",
       "  <tbody>\n",
       "    <tr>\n",
       "      <th>C</th>\n",
       "      <td>0.136612</td>\n",
       "      <td>0.273529</td>\n",
       "    </tr>\n",
       "    <tr>\n",
       "      <th>Q</th>\n",
       "      <td>0.085610</td>\n",
       "      <td>0.088235</td>\n",
       "    </tr>\n",
       "    <tr>\n",
       "      <th>S</th>\n",
       "      <td>0.777778</td>\n",
       "      <td>0.638235</td>\n",
       "    </tr>\n",
       "  </tbody>\n",
       "</table>\n",
       "</div>"
      ],
      "text/plain": [
       "survived         0         1\n",
       "embarked                    \n",
       "C         0.136612  0.273529\n",
       "Q         0.085610  0.088235\n",
       "S         0.777778  0.638235"
      ]
     },
     "execution_count": 29,
     "metadata": {},
     "output_type": "execute_result"
    }
   ],
   "source": [
    "#membaca donut plot diatas\n",
    "\n",
    "pd.crosstab(index = titanic['embarked'], columns = titanic['survived'], normalize = 1)\n",
    "\n",
    "#dari semua yg selamat, keberangkatan S paling tinggi namun paling tinggi jg yg tidak selamat"
   ]
  },
  {
   "cell_type": "code",
   "execution_count": 30,
   "metadata": {},
   "outputs": [
    {
     "data": {
      "text/plain": [
       "3    353\n",
       "2    164\n",
       "1    127\n",
       "Name: pclass, dtype: int64"
      ]
     },
     "execution_count": 30,
     "metadata": {},
     "output_type": "execute_result"
    }
   ],
   "source": [
    "#melihat jumlah keberangkatan berdasarkan kelas\n",
    "\n",
    "titanic[titanic['embarked'] == 'S']['pclass'].value_counts()\n",
    "\n",
    "#kebanyakan orang yg naik dari S, itu kelas 3... mereka tidak selamat, jadi paling tinggi rationya"
   ]
  },
  {
   "cell_type": "code",
   "execution_count": 31,
   "metadata": {},
   "outputs": [
    {
     "data": {
      "text/plain": [
       "<AxesSubplot:xlabel='fare'>"
      ]
     },
     "execution_count": 31,
     "metadata": {},
     "output_type": "execute_result"
    },
    {
     "data": {
      "image/png": "[encoded data removed]",
      "text/plain": [
       "<Figure size 1152x432 with 2 Axes>"
      ]
     },
     "metadata": {
      "needs_background": "light"
     },
     "output_type": "display_data"
    }
   ],
   "source": [
    "##keberangkatan S, mayoritas tidak selamat\n",
    "# yg tidak selamat biasanya yg bayar fare nya murah\n",
    "\n",
    "#jadi kita bikin plot dan hipotesis testing\n",
    "\n",
    "plt.figure(figsize = (16,6))\n",
    "plt.subplot(121)\n",
    "sns.boxplot(x = 'embarked', y = 'fare', data = titanic)\n",
    "\n",
    "plt.subplot(122)\n",
    "sns.boxplot(x = titanic[titanic['embarked']== 'S']['fare'])\n",
    "\n",
    "\n",
    "##BELOM SELESE\n",
    "\n",
    "\n",
    "#kalo dari plot, kita pakenya non parametrik saoalnya skew === kruskal wallis (versi non parametriknya ttest one way dan bandinginnya bisa 3)\n",
    "#kalo non parametrik pakenya mannwithneyu (versi nonparametriknya ttest unpaired dan bisa bandinginnya 2)\n"
   ]
  },
  {
   "cell_type": "markdown",
   "metadata": {},
   "source": [
    "kalo 3 group gini, ada kruskal wallis (test untuk 2 atau lebih independent sample di satu kolom)"
   ]
  },
  {
   "cell_type": "code",
   "execution_count": 32,
   "metadata": {},
   "outputs": [
    {
     "name": "stdout",
     "output_type": "stream",
     "text": [
      "Southampton median fare are lest than Cherbourg\n"
     ]
    }
   ],
   "source": [
    "#Mencari hipotesis testing\n",
    "\n",
    "\n",
    "stats, p = mannwhitneyu(titanic[titanic['embarked'] == 'S']['fare'], titanic[titanic['embarked'] == 'C']['fare'], alternative = 'less' )\n",
    "\n",
    "if p < 0.05:\n",
    "    print('Southampton median fare are lest than Cherbourg')\n",
    "else:\n",
    "    print('Southampton median fare are equal to Cherbourg')"
   ]
  },
  {
   "cell_type": "code",
   "execution_count": 33,
   "metadata": {},
   "outputs": [
    {
     "name": "stdout",
     "output_type": "stream",
     "text": [
      "Southampton median fare are equal to Queenstown\n"
     ]
    }
   ],
   "source": [
    "#Mencari hipotesis testing\n",
    "\n",
    "\n",
    "stats, p = mannwhitneyu(titanic[titanic['embarked'] == 'S']['fare'], titanic[titanic['embarked'] == 'Q']['fare'], alternative = 'less' )\n",
    "\n",
    "if p < 0.05:\n",
    "    print('Southampton median fare are lest than Queenstown')\n",
    "else:\n",
    "    print('Southampton median fare are equal to Queenstown')"
   ]
  },
  {
   "cell_type": "code",
   "execution_count": 34,
   "metadata": {},
   "outputs": [
    {
     "data": {
      "text/plain": [
       "<AxesSubplot:xlabel='embarked'>"
      ]
     },
     "execution_count": 34,
     "metadata": {},
     "output_type": "execute_result"
    },
    {
     "data": {
      "image/png": "[encoded data removed]",
      "text/plain": [
       "<Figure size 432x288 with 1 Axes>"
      ]
     },
     "metadata": {
      "needs_background": "light"
     },
     "output_type": "display_data"
    }
   ],
   "source": [
    "pd.crosstab(index = titanic['embarked'], columns = titanic['sex'], normalize = 0).plot(kind = 'bar', stacked = True)"
   ]
  },
  {
   "cell_type": "markdown",
   "metadata": {},
   "source": [
    "Analisa dari plot diatas:\n",
    "\n",
    "- Kalo male, dia berangkat dari S, dan harganya murah === tidak selamatnya tinggi\n"
   ]
  },
  {
   "cell_type": "markdown",
   "metadata": {},
   "source": [
    "> ### __SURVIVED & TITLE__"
   ]
  },
  {
   "cell_type": "code",
   "execution_count": 35,
   "metadata": {},
   "outputs": [
    {
     "data": {
      "image/png": "[encoded data removed]",
      "text/plain": [
       "<Figure size 432x288 with 1 Axes>"
      ]
     },
     "metadata": {
      "needs_background": "light"
     },
     "output_type": "display_data"
    }
   ],
   "source": [
    "#membuat plot dari title dan survived\n",
    "\n",
    "sns.countplot(x='title', hue = 'survived', data = titanic)\n",
    "plt.xticks(rotation = 45)\n",
    "plt.show()\n",
    "\n",
    "#untuk title Mr == kecenderungan tidak selamat tinggi"
   ]
  },
  {
   "cell_type": "code",
   "execution_count": 36,
   "metadata": {},
   "outputs": [
    {
     "data": {
      "text/html": [
       "<div>\n",
       "<style scoped>\n",
       "    .dataframe tbody tr th:only-of-type {\n",
       "        vertical-align: middle;\n",
       "    }\n",
       "\n",
       "    .dataframe tbody tr th {\n",
       "        vertical-align: top;\n",
       "    }\n",
       "\n",
       "    .dataframe thead th {\n",
       "        text-align: right;\n",
       "    }\n",
       "</style>\n",
       "<table border=\"1\" class=\"dataframe\">\n",
       "  <thead>\n",
       "    <tr style=\"text-align: right;\">\n",
       "      <th>survived</th>\n",
       "      <th>0</th>\n",
       "      <th>1</th>\n",
       "    </tr>\n",
       "    <tr>\n",
       "      <th>title</th>\n",
       "      <th></th>\n",
       "      <th></th>\n",
       "    </tr>\n",
       "  </thead>\n",
       "  <tbody>\n",
       "    <tr>\n",
       "      <th>Capt</th>\n",
       "      <td>1.000000</td>\n",
       "      <td>0.000000</td>\n",
       "    </tr>\n",
       "    <tr>\n",
       "      <th>Don</th>\n",
       "      <td>1.000000</td>\n",
       "      <td>0.000000</td>\n",
       "    </tr>\n",
       "    <tr>\n",
       "      <th>Jonkheer</th>\n",
       "      <td>1.000000</td>\n",
       "      <td>0.000000</td>\n",
       "    </tr>\n",
       "    <tr>\n",
       "      <th>Rev</th>\n",
       "      <td>1.000000</td>\n",
       "      <td>0.000000</td>\n",
       "    </tr>\n",
       "    <tr>\n",
       "      <th>Mr</th>\n",
       "      <td>0.843327</td>\n",
       "      <td>0.156673</td>\n",
       "    </tr>\n",
       "    <tr>\n",
       "      <th>Dr</th>\n",
       "      <td>0.571429</td>\n",
       "      <td>0.428571</td>\n",
       "    </tr>\n",
       "    <tr>\n",
       "      <th>Major</th>\n",
       "      <td>0.500000</td>\n",
       "      <td>0.500000</td>\n",
       "    </tr>\n",
       "    <tr>\n",
       "      <th>Col</th>\n",
       "      <td>0.500000</td>\n",
       "      <td>0.500000</td>\n",
       "    </tr>\n",
       "    <tr>\n",
       "      <th>Master</th>\n",
       "      <td>0.425000</td>\n",
       "      <td>0.575000</td>\n",
       "    </tr>\n",
       "    <tr>\n",
       "      <th>Miss</th>\n",
       "      <td>0.302198</td>\n",
       "      <td>0.697802</td>\n",
       "    </tr>\n",
       "    <tr>\n",
       "      <th>Mrs</th>\n",
       "      <td>0.208000</td>\n",
       "      <td>0.792000</td>\n",
       "    </tr>\n",
       "    <tr>\n",
       "      <th>Mme</th>\n",
       "      <td>0.000000</td>\n",
       "      <td>1.000000</td>\n",
       "    </tr>\n",
       "    <tr>\n",
       "      <th>Mlle</th>\n",
       "      <td>0.000000</td>\n",
       "      <td>1.000000</td>\n",
       "    </tr>\n",
       "    <tr>\n",
       "      <th>Ms</th>\n",
       "      <td>0.000000</td>\n",
       "      <td>1.000000</td>\n",
       "    </tr>\n",
       "    <tr>\n",
       "      <th>Lady</th>\n",
       "      <td>0.000000</td>\n",
       "      <td>1.000000</td>\n",
       "    </tr>\n",
       "    <tr>\n",
       "      <th>Sir</th>\n",
       "      <td>0.000000</td>\n",
       "      <td>1.000000</td>\n",
       "    </tr>\n",
       "    <tr>\n",
       "      <th>the Countess</th>\n",
       "      <td>0.000000</td>\n",
       "      <td>1.000000</td>\n",
       "    </tr>\n",
       "  </tbody>\n",
       "</table>\n",
       "</div>"
      ],
      "text/plain": [
       "survived              0         1\n",
       "title                            \n",
       " Capt          1.000000  0.000000\n",
       " Don           1.000000  0.000000\n",
       " Jonkheer      1.000000  0.000000\n",
       " Rev           1.000000  0.000000\n",
       " Mr            0.843327  0.156673\n",
       " Dr            0.571429  0.428571\n",
       " Major         0.500000  0.500000\n",
       " Col           0.500000  0.500000\n",
       " Master        0.425000  0.575000\n",
       " Miss          0.302198  0.697802\n",
       " Mrs           0.208000  0.792000\n",
       " Mme           0.000000  1.000000\n",
       " Mlle          0.000000  1.000000\n",
       " Ms            0.000000  1.000000\n",
       " Lady          0.000000  1.000000\n",
       " Sir           0.000000  1.000000\n",
       " the Countess  0.000000  1.000000"
      ]
     },
     "execution_count": 36,
     "metadata": {},
     "output_type": "execute_result"
    }
   ],
   "source": [
    "pd.crosstab(index = titanic['title'], columns = titanic['survived'], normalize = 0).sort_values(0, ascending = False)"
   ]
  },
  {
   "cell_type": "code",
   "execution_count": 37,
   "metadata": {},
   "outputs": [],
   "source": [
    "## cerita2 tiap eda ditulis di markdown"
   ]
  },
  {
   "cell_type": "markdown",
   "metadata": {},
   "source": [
    "#### __Skenario__"
   ]
  },
  {
   "cell_type": "markdown",
   "metadata": {},
   "source": [
    "Impute\n",
    "- Age impute with mean\n",
    "- embarked with S (mode)\n",
    "- name only with title\n",
    "\n",
    "Encoder:\n",
    "- sex -> oneHote\n",
    "- embarked ->  onehot\n",
    "- title -> binary\n",
    "\n",
    "Drop:\n",
    "- pasenger id"
   ]
  },
  {
   "cell_type": "markdown",
   "metadata": {},
   "source": [
    "- pake roc, karena tidak condong ke salah satu kelas"
   ]
  },
  {
   "cell_type": "markdown",
   "metadata": {},
   "source": [
    "## __MODELLING__"
   ]
  },
  {
   "cell_type": "code",
   "execution_count": 38,
   "metadata": {},
   "outputs": [],
   "source": [
    "# Menentukan variabel dependen dan indepnden\n",
    "\n",
    "X = titanic.drop('survived', axis =1)\n",
    "y = titanic['survived']"
   ]
  },
  {
   "cell_type": "code",
   "execution_count": 39,
   "metadata": {},
   "outputs": [],
   "source": [
    "#data splitting\n",
    "\n",
    "X_train_val, X_test, y_train_val, y_test = train_test_split(X, y, test_size = 0.2, stratify = y)"
   ]
  },
  {
   "cell_type": "markdown",
   "metadata": {},
   "source": [
    "> ### __PIPELINE : DTC__"
   ]
  },
  {
   "cell_type": "code",
   "execution_count": 40,
   "metadata": {},
   "outputs": [],
   "source": [
    "# MEMBUAT PIPELINE\n",
    "\n",
    "#1. IMPUTE (usahakan tiap data satu kolom)\n",
    "#a. impute age (num)\n",
    "numerical_pipeline = Pipeline([\n",
    "    ('impute_num', SimpleImputer(strategy = 'mean'))\n",
    "])\n",
    "\n",
    "#b. impute embarked (cat & onehot)\n",
    "onehot_pipeline = Pipeline([\n",
    "    ('impute_cat', SimpleImputer(strategy = 'constant', fill_value = 'S')),\n",
    "    ('onehot', OneHotEncoder(drop = 'first'))\n",
    "])\n",
    "\n",
    "#c. impute tittle (binary)\n",
    "binary_pipeline = Pipeline([\n",
    "    ('binary', ce.BinaryEncoder())\n",
    "])\n",
    "\n",
    "#2. TRANSFROM\n",
    "transformer = ColumnTransformer([\n",
    "    ('Impute_pipe', numerical_pipeline, ['age']),\n",
    "    ('onehot_pipe', onehot_pipeline, ['sex', 'embarked']),\n",
    "    ('binary_pipe', binary_pipeline, ['title'])\n",
    "], remainder = 'passthrough')\n",
    "\n",
    "#3. MODEL INITIALIZING\n",
    "dtc = DecisionTreeClassifier(max_depth = 5, random_state = 1912)\n",
    "smote = SMOTE() #Aagar didalam pipeline bisa lsg melakukan resampling\n",
    "rfe = RFE(estimator = dtc) #diambil kolum terbaiknya\n",
    "\n",
    "\n",
    "#4. MEMBUAT PIPELINE BESAR\n",
    "all_in_pipeline = Pipeline([\n",
    "    ('transformer', transformer),\n",
    "    ('rfe', rfe),\n",
    "    ('resampling', smote),\n",
    "    ('clf', dtc)\n",
    "])"
   ]
  },
  {
   "cell_type": "markdown",
   "metadata": {},
   "source": [
    "__Noted to me:__\n",
    "- kalo nambah model, dibikin lagi pipelinenya satu full cell\n",
    "- kalo knn, nambah standarscaler\n",
    "- terus fokus disalah satu class atau engga"
   ]
  },
  {
   "cell_type": "code",
   "execution_count": 41,
   "metadata": {},
   "outputs": [
    {
     "data": {
      "text/plain": [
       "{'memory': None,\n",
       " 'steps': [('transformer',\n",
       "   ColumnTransformer(remainder='passthrough',\n",
       "                     transformers=[('Impute_pipe',\n",
       "                                    Pipeline(steps=[('impute_num',\n",
       "                                                     SimpleImputer())]),\n",
       "                                    ['age']),\n",
       "                                   ('onehot_pipe',\n",
       "                                    Pipeline(steps=[('impute_cat',\n",
       "                                                     SimpleImputer(fill_value='S',\n",
       "                                                                   strategy='constant')),\n",
       "                                                    ('onehot',\n",
       "                                                     OneHotEncoder(drop='first'))]),\n",
       "                                    ['sex', 'embarked']),\n",
       "                                   ('binary_pipe',\n",
       "                                    Pipeline(steps=[('binary', BinaryEncoder())]),\n",
       "                                    ['title'])])),\n",
       "  ('rfe',\n",
       "   RFE(estimator=DecisionTreeClassifier(max_depth=5, random_state=1912))),\n",
       "  ('resampling', SMOTE()),\n",
       "  ('clf', DecisionTreeClassifier(max_depth=5, random_state=1912))],\n",
       " 'verbose': False,\n",
       " 'transformer': ColumnTransformer(remainder='passthrough',\n",
       "                   transformers=[('Impute_pipe',\n",
       "                                  Pipeline(steps=[('impute_num',\n",
       "                                                   SimpleImputer())]),\n",
       "                                  ['age']),\n",
       "                                 ('onehot_pipe',\n",
       "                                  Pipeline(steps=[('impute_cat',\n",
       "                                                   SimpleImputer(fill_value='S',\n",
       "                                                                 strategy='constant')),\n",
       "                                                  ('onehot',\n",
       "                                                   OneHotEncoder(drop='first'))]),\n",
       "                                  ['sex', 'embarked']),\n",
       "                                 ('binary_pipe',\n",
       "                                  Pipeline(steps=[('binary', BinaryEncoder())]),\n",
       "                                  ['title'])]),\n",
       " 'rfe': RFE(estimator=DecisionTreeClassifier(max_depth=5, random_state=1912)),\n",
       " 'resampling': SMOTE(),\n",
       " 'clf': DecisionTreeClassifier(max_depth=5, random_state=1912),\n",
       " 'transformer__n_jobs': None,\n",
       " 'transformer__remainder': 'passthrough',\n",
       " 'transformer__sparse_threshold': 0.3,\n",
       " 'transformer__transformer_weights': None,\n",
       " 'transformer__transformers': [('Impute_pipe',\n",
       "   Pipeline(steps=[('impute_num', SimpleImputer())]),\n",
       "   ['age']),\n",
       "  ('onehot_pipe',\n",
       "   Pipeline(steps=[('impute_cat',\n",
       "                    SimpleImputer(fill_value='S', strategy='constant')),\n",
       "                   ('onehot', OneHotEncoder(drop='first'))]),\n",
       "   ['sex', 'embarked']),\n",
       "  ('binary_pipe', Pipeline(steps=[('binary', BinaryEncoder())]), ['title'])],\n",
       " 'transformer__verbose': False,\n",
       " 'transformer__Impute_pipe': Pipeline(steps=[('impute_num', SimpleImputer())]),\n",
       " 'transformer__onehot_pipe': Pipeline(steps=[('impute_cat',\n",
       "                  SimpleImputer(fill_value='S', strategy='constant')),\n",
       "                 ('onehot', OneHotEncoder(drop='first'))]),\n",
       " 'transformer__binary_pipe': Pipeline(steps=[('binary', BinaryEncoder())]),\n",
       " 'transformer__Impute_pipe__memory': None,\n",
       " 'transformer__Impute_pipe__steps': [('impute_num', SimpleImputer())],\n",
       " 'transformer__Impute_pipe__verbose': False,\n",
       " 'transformer__Impute_pipe__impute_num': SimpleImputer(),\n",
       " 'transformer__Impute_pipe__impute_num__add_indicator': False,\n",
       " 'transformer__Impute_pipe__impute_num__copy': True,\n",
       " 'transformer__Impute_pipe__impute_num__fill_value': None,\n",
       " 'transformer__Impute_pipe__impute_num__missing_values': nan,\n",
       " 'transformer__Impute_pipe__impute_num__strategy': 'mean',\n",
       " 'transformer__Impute_pipe__impute_num__verbose': 0,\n",
       " 'transformer__onehot_pipe__memory': None,\n",
       " 'transformer__onehot_pipe__steps': [('impute_cat',\n",
       "   SimpleImputer(fill_value='S', strategy='constant')),\n",
       "  ('onehot', OneHotEncoder(drop='first'))],\n",
       " 'transformer__onehot_pipe__verbose': False,\n",
       " 'transformer__onehot_pipe__impute_cat': SimpleImputer(fill_value='S', strategy='constant'),\n",
       " 'transformer__onehot_pipe__onehot': OneHotEncoder(drop='first'),\n",
       " 'transformer__onehot_pipe__impute_cat__add_indicator': False,\n",
       " 'transformer__onehot_pipe__impute_cat__copy': True,\n",
       " 'transformer__onehot_pipe__impute_cat__fill_value': 'S',\n",
       " 'transformer__onehot_pipe__impute_cat__missing_values': nan,\n",
       " 'transformer__onehot_pipe__impute_cat__strategy': 'constant',\n",
       " 'transformer__onehot_pipe__impute_cat__verbose': 0,\n",
       " 'transformer__onehot_pipe__onehot__categories': 'auto',\n",
       " 'transformer__onehot_pipe__onehot__drop': 'first',\n",
       " 'transformer__onehot_pipe__onehot__dtype': numpy.float64,\n",
       " 'transformer__onehot_pipe__onehot__handle_unknown': 'error',\n",
       " 'transformer__onehot_pipe__onehot__sparse': True,\n",
       " 'transformer__binary_pipe__memory': None,\n",
       " 'transformer__binary_pipe__steps': [('binary', BinaryEncoder())],\n",
       " 'transformer__binary_pipe__verbose': False,\n",
       " 'transformer__binary_pipe__binary': BinaryEncoder(),\n",
       " 'transformer__binary_pipe__binary__cols': None,\n",
       " 'transformer__binary_pipe__binary__drop_invariant': False,\n",
       " 'transformer__binary_pipe__binary__handle_missing': 'value',\n",
       " 'transformer__binary_pipe__binary__handle_unknown': 'value',\n",
       " 'transformer__binary_pipe__binary__mapping': None,\n",
       " 'transformer__binary_pipe__binary__return_df': True,\n",
       " 'transformer__binary_pipe__binary__verbose': 0,\n",
       " 'rfe__estimator__ccp_alpha': 0.0,\n",
       " 'rfe__estimator__class_weight': None,\n",
       " 'rfe__estimator__criterion': 'gini',\n",
       " 'rfe__estimator__max_depth': 5,\n",
       " 'rfe__estimator__max_features': None,\n",
       " 'rfe__estimator__max_leaf_nodes': None,\n",
       " 'rfe__estimator__min_impurity_decrease': 0.0,\n",
       " 'rfe__estimator__min_impurity_split': None,\n",
       " 'rfe__estimator__min_samples_leaf': 1,\n",
       " 'rfe__estimator__min_samples_split': 2,\n",
       " 'rfe__estimator__min_weight_fraction_leaf': 0.0,\n",
       " 'rfe__estimator__presort': 'deprecated',\n",
       " 'rfe__estimator__random_state': 1912,\n",
       " 'rfe__estimator__splitter': 'best',\n",
       " 'rfe__estimator': DecisionTreeClassifier(max_depth=5, random_state=1912),\n",
       " 'rfe__n_features_to_select': None,\n",
       " 'rfe__step': 1,\n",
       " 'rfe__verbose': 0,\n",
       " 'resampling__k_neighbors': 5,\n",
       " 'resampling__n_jobs': None,\n",
       " 'resampling__random_state': None,\n",
       " 'resampling__sampling_strategy': 'auto',\n",
       " 'clf__ccp_alpha': 0.0,\n",
       " 'clf__class_weight': None,\n",
       " 'clf__criterion': 'gini',\n",
       " 'clf__max_depth': 5,\n",
       " 'clf__max_features': None,\n",
       " 'clf__max_leaf_nodes': None,\n",
       " 'clf__min_impurity_decrease': 0.0,\n",
       " 'clf__min_impurity_split': None,\n",
       " 'clf__min_samples_leaf': 1,\n",
       " 'clf__min_samples_split': 2,\n",
       " 'clf__min_weight_fraction_leaf': 0.0,\n",
       " 'clf__presort': 'deprecated',\n",
       " 'clf__random_state': 1912,\n",
       " 'clf__splitter': 'best'}"
      ]
     },
     "execution_count": 41,
     "metadata": {},
     "output_type": "execute_result"
    }
   ],
   "source": [
    "#untuk...\n",
    "\n",
    "all_in_pipeline.get_params()"
   ]
  },
  {
   "cell_type": "code",
   "execution_count": 42,
   "metadata": {},
   "outputs": [
    {
     "name": "stderr",
     "output_type": "stream",
     "text": [
      "C:\\Users\\asus\\anaconda3\\lib\\site-packages\\category_encoders\\utils.py:21: FutureWarning: is_categorical is deprecated and will be removed in a future version.  Use is_categorical_dtype instead\n",
      "  elif pd.api.types.is_categorical(cols):\n"
     ]
    },
    {
     "data": {
      "text/plain": [
       "GridSearchCV(cv=StratifiedKFold(n_splits=5, random_state=None, shuffle=False),\n",
       "             estimator=Pipeline(steps=[('transformer',\n",
       "                                        ColumnTransformer(remainder='passthrough',\n",
       "                                                          transformers=[('Impute_pipe',\n",
       "                                                                         Pipeline(steps=[('impute_num',\n",
       "                                                                                          SimpleImputer())]),\n",
       "                                                                         ['age']),\n",
       "                                                                        ('onehot_pipe',\n",
       "                                                                         Pipeline(steps=[('impute_cat',\n",
       "                                                                                          SimpleImputer(fill_value='S',\n",
       "                                                                                                        strategy='constant')),\n",
       "                                                                                         ('onehot...\n",
       "                                       ('rfe',\n",
       "                                        RFE(estimator=DecisionTreeClassifier(max_depth=5,\n",
       "                                                                             random_state=1912))),\n",
       "                                       ('resampling', SMOTE()),\n",
       "                                       ('clf',\n",
       "                                        DecisionTreeClassifier(max_depth=5,\n",
       "                                                               random_state=1912))]),\n",
       "             n_jobs=-1,\n",
       "             param_grid={'clf__criterion': ['entropy', 'gini'],\n",
       "                         'clf__max_depth': [2, 3, 4, 5, 6, 7],\n",
       "                         'clf__min_samples_split': [4, 5, 6, 7, 8, 9, 10],\n",
       "                         'rfe__n_features_to_select': [None, 5, 6, 7, 8]},\n",
       "             scoring='f1')"
      ]
     },
     "execution_count": 42,
     "metadata": {},
     "output_type": "execute_result"
    }
   ],
   "source": [
    "hyperparam_space = {\n",
    "    'clf__max_depth': [2,3,4,5,6,7],\n",
    "    'clf__min_samples_split': [4,5,6,7,8,9,10],\n",
    "    'clf__criterion': ['entropy', 'gini'],\n",
    "    'rfe__n_features_to_select': [None,5,6,7,8]\n",
    "}\n",
    "\n",
    "skf = StratifiedKFold(n_splits = 5)\n",
    "\n",
    "gridsearch = GridSearchCV(all_in_pipeline, hyperparam_space, scoring = 'f1', n_jobs =-1, cv = skf)\n",
    "gridsearch.fit(X_train_val, y_train_val)"
   ]
  },
  {
   "cell_type": "code",
   "execution_count": 43,
   "metadata": {},
   "outputs": [
    {
     "data": {
      "text/plain": [
       "{'clf__criterion': 'gini',\n",
       " 'clf__max_depth': 6,\n",
       " 'clf__min_samples_split': 7,\n",
       " 'rfe__n_features_to_select': 7}"
      ]
     },
     "execution_count": 43,
     "metadata": {},
     "output_type": "execute_result"
    }
   ],
   "source": [
    "#mendapatkan best parameter\n",
    "\n",
    "gridsearch.best_params_"
   ]
  },
  {
   "cell_type": "code",
   "execution_count": 44,
   "metadata": {},
   "outputs": [
    {
     "data": {
      "text/plain": [
       "Pipeline(steps=[('transformer',\n",
       "                 ColumnTransformer(remainder='passthrough',\n",
       "                                   transformers=[('Impute_pipe',\n",
       "                                                  Pipeline(steps=[('impute_num',\n",
       "                                                                   SimpleImputer())]),\n",
       "                                                  ['age']),\n",
       "                                                 ('onehot_pipe',\n",
       "                                                  Pipeline(steps=[('impute_cat',\n",
       "                                                                   SimpleImputer(fill_value='S',\n",
       "                                                                                 strategy='constant')),\n",
       "                                                                  ('onehot',\n",
       "                                                                   OneHotEncoder(drop='first'))]),\n",
       "                                                  ['sex', 'embarked']),\n",
       "                                                 ('binary_pipe',\n",
       "                                                  Pipeline(steps=[('binary',\n",
       "                                                                   BinaryEncoder())]),\n",
       "                                                  ['title'])])),\n",
       "                ('rfe',\n",
       "                 RFE(estimator=DecisionTreeClassifier(max_depth=5,\n",
       "                                                      random_state=1912),\n",
       "                     n_features_to_select=7)),\n",
       "                ('resampling', SMOTE()),\n",
       "                ('clf',\n",
       "                 DecisionTreeClassifier(max_depth=6, min_samples_split=7,\n",
       "                                        random_state=1912))])"
      ]
     },
     "execution_count": 44,
     "metadata": {},
     "output_type": "execute_result"
    }
   ],
   "source": [
    "#mendapatkan best estimator\n",
    "\n",
    "gridsearch.best_estimator_"
   ]
  },
  {
   "cell_type": "code",
   "execution_count": 45,
   "metadata": {},
   "outputs": [
    {
     "data": {
      "text/html": [
       "<div>\n",
       "<style scoped>\n",
       "    .dataframe tbody tr th:only-of-type {\n",
       "        vertical-align: middle;\n",
       "    }\n",
       "\n",
       "    .dataframe tbody tr th {\n",
       "        vertical-align: top;\n",
       "    }\n",
       "\n",
       "    .dataframe thead th {\n",
       "        text-align: right;\n",
       "    }\n",
       "</style>\n",
       "<table border=\"1\" class=\"dataframe\">\n",
       "  <thead>\n",
       "    <tr style=\"text-align: right;\">\n",
       "      <th></th>\n",
       "      <th>mean_fit_time</th>\n",
       "      <th>std_fit_time</th>\n",
       "      <th>mean_score_time</th>\n",
       "      <th>std_score_time</th>\n",
       "      <th>param_clf__criterion</th>\n",
       "      <th>param_clf__max_depth</th>\n",
       "      <th>param_clf__min_samples_split</th>\n",
       "      <th>param_rfe__n_features_to_select</th>\n",
       "      <th>params</th>\n",
       "      <th>split0_test_score</th>\n",
       "      <th>split1_test_score</th>\n",
       "      <th>split2_test_score</th>\n",
       "      <th>split3_test_score</th>\n",
       "      <th>split4_test_score</th>\n",
       "      <th>mean_test_score</th>\n",
       "      <th>std_test_score</th>\n",
       "      <th>rank_test_score</th>\n",
       "    </tr>\n",
       "  </thead>\n",
       "  <tbody>\n",
       "    <tr>\n",
       "      <th>0</th>\n",
       "      <td>0.194090</td>\n",
       "      <td>0.068801</td>\n",
       "      <td>0.052170</td>\n",
       "      <td>0.025185</td>\n",
       "      <td>entropy</td>\n",
       "      <td>2</td>\n",
       "      <td>4</td>\n",
       "      <td>None</td>\n",
       "      <td>{'clf__criterion': 'entropy', 'clf__max_depth'...</td>\n",
       "      <td>0.718447</td>\n",
       "      <td>0.713043</td>\n",
       "      <td>0.707071</td>\n",
       "      <td>0.626263</td>\n",
       "      <td>0.743802</td>\n",
       "      <td>0.701725</td>\n",
       "      <td>0.039753</td>\n",
       "      <td>348</td>\n",
       "    </tr>\n",
       "    <tr>\n",
       "      <th>1</th>\n",
       "      <td>0.102142</td>\n",
       "      <td>0.013652</td>\n",
       "      <td>0.025984</td>\n",
       "      <td>0.003403</td>\n",
       "      <td>entropy</td>\n",
       "      <td>2</td>\n",
       "      <td>4</td>\n",
       "      <td>5</td>\n",
       "      <td>{'clf__criterion': 'entropy', 'clf__max_depth'...</td>\n",
       "      <td>0.718447</td>\n",
       "      <td>0.713043</td>\n",
       "      <td>0.707071</td>\n",
       "      <td>0.626263</td>\n",
       "      <td>0.757282</td>\n",
       "      <td>0.704421</td>\n",
       "      <td>0.042851</td>\n",
       "      <td>322</td>\n",
       "    </tr>\n",
       "    <tr>\n",
       "      <th>2</th>\n",
       "      <td>0.093748</td>\n",
       "      <td>0.006642</td>\n",
       "      <td>0.026384</td>\n",
       "      <td>0.005710</td>\n",
       "      <td>entropy</td>\n",
       "      <td>2</td>\n",
       "      <td>4</td>\n",
       "      <td>6</td>\n",
       "      <td>{'clf__criterion': 'entropy', 'clf__max_depth'...</td>\n",
       "      <td>0.718447</td>\n",
       "      <td>0.696296</td>\n",
       "      <td>0.707071</td>\n",
       "      <td>0.626263</td>\n",
       "      <td>0.743802</td>\n",
       "      <td>0.698376</td>\n",
       "      <td>0.039361</td>\n",
       "      <td>388</td>\n",
       "    </tr>\n",
       "    <tr>\n",
       "      <th>3</th>\n",
       "      <td>0.088950</td>\n",
       "      <td>0.002097</td>\n",
       "      <td>0.022586</td>\n",
       "      <td>0.000800</td>\n",
       "      <td>entropy</td>\n",
       "      <td>2</td>\n",
       "      <td>4</td>\n",
       "      <td>7</td>\n",
       "      <td>{'clf__criterion': 'entropy', 'clf__max_depth'...</td>\n",
       "      <td>0.718447</td>\n",
       "      <td>0.713043</td>\n",
       "      <td>0.707071</td>\n",
       "      <td>0.626263</td>\n",
       "      <td>0.757282</td>\n",
       "      <td>0.704421</td>\n",
       "      <td>0.042851</td>\n",
       "      <td>322</td>\n",
       "    </tr>\n",
       "    <tr>\n",
       "      <th>4</th>\n",
       "      <td>0.086751</td>\n",
       "      <td>0.003058</td>\n",
       "      <td>0.027583</td>\n",
       "      <td>0.005950</td>\n",
       "      <td>entropy</td>\n",
       "      <td>2</td>\n",
       "      <td>4</td>\n",
       "      <td>8</td>\n",
       "      <td>{'clf__criterion': 'entropy', 'clf__max_depth'...</td>\n",
       "      <td>0.718447</td>\n",
       "      <td>0.696296</td>\n",
       "      <td>0.707071</td>\n",
       "      <td>0.626263</td>\n",
       "      <td>0.743802</td>\n",
       "      <td>0.698376</td>\n",
       "      <td>0.039361</td>\n",
       "      <td>388</td>\n",
       "    </tr>\n",
       "  </tbody>\n",
       "</table>\n",
       "</div>"
      ],
      "text/plain": [
       "   mean_fit_time  std_fit_time  mean_score_time  std_score_time  \\\n",
       "0       0.194090      0.068801         0.052170        0.025185   \n",
       "1       0.102142      0.013652         0.025984        0.003403   \n",
       "2       0.093748      0.006642         0.026384        0.005710   \n",
       "3       0.088950      0.002097         0.022586        0.000800   \n",
       "4       0.086751      0.003058         0.027583        0.005950   \n",
       "\n",
       "  param_clf__criterion param_clf__max_depth param_clf__min_samples_split  \\\n",
       "0              entropy                    2                            4   \n",
       "1              entropy                    2                            4   \n",
       "2              entropy                    2                            4   \n",
       "3              entropy                    2                            4   \n",
       "4              entropy                    2                            4   \n",
       "\n",
       "  param_rfe__n_features_to_select  \\\n",
       "0                            None   \n",
       "1                               5   \n",
       "2                               6   \n",
       "3                               7   \n",
       "4                               8   \n",
       "\n",
       "                                              params  split0_test_score  \\\n",
       "0  {'clf__criterion': 'entropy', 'clf__max_depth'...           0.718447   \n",
       "1  {'clf__criterion': 'entropy', 'clf__max_depth'...           0.718447   \n",
       "2  {'clf__criterion': 'entropy', 'clf__max_depth'...           0.718447   \n",
       "3  {'clf__criterion': 'entropy', 'clf__max_depth'...           0.718447   \n",
       "4  {'clf__criterion': 'entropy', 'clf__max_depth'...           0.718447   \n",
       "\n",
       "   split1_test_score  split2_test_score  split3_test_score  split4_test_score  \\\n",
       "0           0.713043           0.707071           0.626263           0.743802   \n",
       "1           0.713043           0.707071           0.626263           0.757282   \n",
       "2           0.696296           0.707071           0.626263           0.743802   \n",
       "3           0.713043           0.707071           0.626263           0.757282   \n",
       "4           0.696296           0.707071           0.626263           0.743802   \n",
       "\n",
       "   mean_test_score  std_test_score  rank_test_score  \n",
       "0         0.701725        0.039753              348  \n",
       "1         0.704421        0.042851              322  \n",
       "2         0.698376        0.039361              388  \n",
       "3         0.704421        0.042851              322  \n",
       "4         0.698376        0.039361              388  "
      ]
     },
     "execution_count": 45,
     "metadata": {},
     "output_type": "execute_result"
    }
   ],
   "source": [
    "#menampilkan cv result\n",
    "\n",
    "cv_res_df = pd.DataFrame(gridsearch.cv_results_)\n",
    "cv_res_df.head()"
   ]
  },
  {
   "cell_type": "code",
   "execution_count": 46,
   "metadata": {},
   "outputs": [
    {
     "data": {
      "text/html": [
       "<div>\n",
       "<style scoped>\n",
       "    .dataframe tbody tr th:only-of-type {\n",
       "        vertical-align: middle;\n",
       "    }\n",
       "\n",
       "    .dataframe tbody tr th {\n",
       "        vertical-align: top;\n",
       "    }\n",
       "\n",
       "    .dataframe thead th {\n",
       "        text-align: right;\n",
       "    }\n",
       "</style>\n",
       "<table border=\"1\" class=\"dataframe\">\n",
       "  <thead>\n",
       "    <tr style=\"text-align: right;\">\n",
       "      <th></th>\n",
       "      <th>mean_fit_time</th>\n",
       "      <th>std_fit_time</th>\n",
       "      <th>mean_score_time</th>\n",
       "      <th>std_score_time</th>\n",
       "      <th>param_clf__criterion</th>\n",
       "      <th>param_clf__max_depth</th>\n",
       "      <th>param_clf__min_samples_split</th>\n",
       "      <th>param_rfe__n_features_to_select</th>\n",
       "      <th>params</th>\n",
       "      <th>split0_test_score</th>\n",
       "      <th>split1_test_score</th>\n",
       "      <th>split2_test_score</th>\n",
       "      <th>split3_test_score</th>\n",
       "      <th>split4_test_score</th>\n",
       "      <th>mean_test_score</th>\n",
       "      <th>std_test_score</th>\n",
       "      <th>rank_test_score</th>\n",
       "    </tr>\n",
       "  </thead>\n",
       "  <tbody>\n",
       "    <tr>\n",
       "      <th>368</th>\n",
       "      <td>0.10834</td>\n",
       "      <td>0.016369</td>\n",
       "      <td>0.024986</td>\n",
       "      <td>0.004145</td>\n",
       "      <td>gini</td>\n",
       "      <td>6</td>\n",
       "      <td>7</td>\n",
       "      <td>7</td>\n",
       "      <td>{'clf__criterion': 'gini', 'clf__max_depth': 6...</td>\n",
       "      <td>0.776699</td>\n",
       "      <td>0.747826</td>\n",
       "      <td>0.702128</td>\n",
       "      <td>0.789474</td>\n",
       "      <td>0.773585</td>\n",
       "      <td>0.757942</td>\n",
       "      <td>0.031011</td>\n",
       "      <td>1</td>\n",
       "    </tr>\n",
       "  </tbody>\n",
       "</table>\n",
       "</div>"
      ],
      "text/plain": [
       "     mean_fit_time  std_fit_time  mean_score_time  std_score_time  \\\n",
       "368        0.10834      0.016369         0.024986        0.004145   \n",
       "\n",
       "    param_clf__criterion param_clf__max_depth param_clf__min_samples_split  \\\n",
       "368                 gini                    6                            7   \n",
       "\n",
       "    param_rfe__n_features_to_select  \\\n",
       "368                               7   \n",
       "\n",
       "                                                params  split0_test_score  \\\n",
       "368  {'clf__criterion': 'gini', 'clf__max_depth': 6...           0.776699   \n",
       "\n",
       "     split1_test_score  split2_test_score  split3_test_score  \\\n",
       "368           0.747826           0.702128           0.789474   \n",
       "\n",
       "     split4_test_score  mean_test_score  std_test_score  rank_test_score  \n",
       "368           0.773585         0.757942        0.031011                1  "
      ]
     },
     "execution_count": 46,
     "metadata": {},
     "output_type": "execute_result"
    }
   ],
   "source": [
    "#menampilkan yg rank test score terbaik\n",
    "\n",
    "cv_res_df[cv_res_df['rank_test_score'] == 1]"
   ]
  },
  {
   "cell_type": "markdown",
   "metadata": {},
   "source": [
    "## __COMPARE: DEFAULT MODEL & TUNED MODEL__"
   ]
  },
  {
   "cell_type": "code",
   "execution_count": 47,
   "metadata": {},
   "outputs": [
    {
     "name": "stderr",
     "output_type": "stream",
     "text": [
      "C:\\Users\\asus\\anaconda3\\lib\\site-packages\\category_encoders\\utils.py:21: FutureWarning: is_categorical is deprecated and will be removed in a future version.  Use is_categorical_dtype instead\n",
      "  elif pd.api.types.is_categorical(cols):\n"
     ]
    },
    {
     "name": "stdout",
     "output_type": "stream",
     "text": [
      "              precision    recall  f1-score   support\n",
      "\n",
      "           0       0.88      0.76      0.82       110\n",
      "           1       0.69      0.84      0.76        69\n",
      "\n",
      "    accuracy                           0.79       179\n",
      "   macro avg       0.79      0.80      0.79       179\n",
      "weighted avg       0.81      0.79      0.80       179\n",
      "\n"
     ]
    }
   ],
   "source": [
    "#model 1:\n",
    "\n",
    "model_default = all_in_pipeline.fit(X_train_val, y_train_val)\n",
    "y_pred_default = model_default.predict(X_test)\n",
    "\n",
    "print(classification_report(y_test, y_pred_default))"
   ]
  },
  {
   "cell_type": "code",
   "execution_count": 48,
   "metadata": {},
   "outputs": [
    {
     "data": {
      "text/plain": [
       "<sklearn.metrics._plot.roc_curve.RocCurveDisplay at 0x2325c60b670>"
      ]
     },
     "execution_count": 48,
     "metadata": {},
     "output_type": "execute_result"
    },
    {
     "data": {
      "image/png": "[encoded data removed]",
      "text/plain": [
       "<Figure size 432x288 with 1 Axes>"
      ]
     },
     "metadata": {
      "needs_background": "light"
     },
     "output_type": "display_data"
    }
   ],
   "source": [
    "#membuat plot roc model1:\n",
    "\n",
    "plot_roc_curve(model_default, X_test, y_test)"
   ]
  },
  {
   "cell_type": "code",
   "execution_count": 49,
   "metadata": {},
   "outputs": [
    {
     "name": "stdout",
     "output_type": "stream",
     "text": [
      "              precision    recall  f1-score   support\n",
      "\n",
      "           0       0.84      0.91      0.87       110\n",
      "           1       0.83      0.72      0.78        69\n",
      "\n",
      "    accuracy                           0.84       179\n",
      "   macro avg       0.84      0.82      0.82       179\n",
      "weighted avg       0.84      0.84      0.84       179\n",
      "\n"
     ]
    },
    {
     "name": "stderr",
     "output_type": "stream",
     "text": [
      "C:\\Users\\asus\\anaconda3\\lib\\site-packages\\category_encoders\\utils.py:21: FutureWarning: is_categorical is deprecated and will be removed in a future version.  Use is_categorical_dtype instead\n",
      "  elif pd.api.types.is_categorical(cols):\n"
     ]
    }
   ],
   "source": [
    "#model 2: jadi lebih jelek\n",
    "\n",
    "model_tuned = gridsearch.best_estimator_.fit(X_train_val, y_train_val)\n",
    "y_pred_tuned = model_tuned.predict(X_test)\n",
    "\n",
    "print(classification_report(y_test, y_pred_tuned))"
   ]
  },
  {
   "cell_type": "code",
   "execution_count": 50,
   "metadata": {},
   "outputs": [
    {
     "data": {
      "text/plain": [
       "<sklearn.metrics._plot.roc_curve.RocCurveDisplay at 0x2325d2fc3d0>"
      ]
     },
     "execution_count": 50,
     "metadata": {},
     "output_type": "execute_result"
    },
    {
     "data": {
      "image/png": "[encoded data removed]",
      "text/plain": [
       "<Figure size 432x288 with 1 Axes>"
      ]
     },
     "metadata": {
      "needs_background": "light"
     },
     "output_type": "display_data"
    }
   ],
   "source": [
    "#membuat plot roc model2:\n",
    "\n",
    "plot_roc_curve(model_tuned, X_test, y_test)"
   ]
  },
  {
   "cell_type": "markdown",
   "metadata": {},
   "source": [
    "__Jadi yang dipakai adalah model default karena lebih bagus__"
   ]
  },
  {
   "cell_type": "code",
   "execution_count": 56,
   "metadata": {},
   "outputs": [
    {
     "name": "stdout",
     "output_type": "stream",
     "text": [
      "              precision    recall  f1-score   support\n",
      "\n",
      "           0       0.88      0.72      0.79       110\n",
      "           1       0.65      0.84      0.73        69\n",
      "\n",
      "    accuracy                           0.77       179\n",
      "   macro avg       0.76      0.78      0.76       179\n",
      "weighted avg       0.79      0.77      0.77       179\n",
      "\n"
     ]
    },
    {
     "data": {
      "image/png": "[encoded data removed]",
      "text/plain": [
       "<Figure size 1152x432 with 2 Axes>"
      ]
     },
     "metadata": {
      "needs_background": "light"
     },
     "output_type": "display_data"
    }
   ],
   "source": [
    "#untuk menampilkan perbanding plot jika thr dipindah\n",
    "\n",
    "thr_move_to = 0.2\n",
    "y_pred_thr = np.where(model_default.predict_proba(X_test)[:,1] > thr_move_to, 1, 0)\n",
    "print(classification_report(y_test, y_pred_thr))\n",
    "\n",
    "thr_test_df = pd.DataFrame(dict(zip(['label', 'prob1', 'label_05'], [y_pred_thr, model_default.predict_proba(X_test)[:,1], model_default.predict(X_test)])))\n",
    "plt.figure(figsize=(16,6))\n",
    "plt.subplot(121)\n",
    "plt.title(f'Threshold moved to: {thr_move_to}')\n",
    "sns.scatterplot(x=thr_test_df.index, y=thr_test_df['prob1'], hue=thr_test_df['label'])\n",
    "plt.axhline(thr_move_to)\n",
    "\n",
    "plt.subplot(122)\n",
    "plt.title('Default Threshold: 0.5')\n",
    "sns.scatterplot(x=thr_test_df.index, y=thr_test_df['prob1'], hue=thr_test_df['label_05'])\n",
    "plt.axhline(0.5, color='red')\n",
    "\n",
    "plt.show()\n",
    "\n",
    "#yg bagus itu fpr thr rendah, tpr tinggi"
   ]
  },
  {
   "cell_type": "markdown",
   "metadata": {},
   "source": [
    "#...\n",
    "\n",
    "thr_move_to = 0.2\n",
    "y_pred_thr = np.where(model_default.predict_proba(X_test[:,1]))"
   ]
  },
  {
   "cell_type": "markdown",
   "metadata": {},
   "source": [
    "## ROSE AND JACK PREDICT"
   ]
  },
  {
   "cell_type": "code",
   "execution_count": 52,
   "metadata": {},
   "outputs": [
    {
     "data": {
      "text/html": [
       "<div>\n",
       "<style scoped>\n",
       "    .dataframe tbody tr th:only-of-type {\n",
       "        vertical-align: middle;\n",
       "    }\n",
       "\n",
       "    .dataframe tbody tr th {\n",
       "        vertical-align: top;\n",
       "    }\n",
       "\n",
       "    .dataframe thead th {\n",
       "        text-align: right;\n",
       "    }\n",
       "</style>\n",
       "<table border=\"1\" class=\"dataframe\">\n",
       "  <thead>\n",
       "    <tr style=\"text-align: right;\">\n",
       "      <th></th>\n",
       "      <th>pclass</th>\n",
       "      <th>sex</th>\n",
       "      <th>age</th>\n",
       "      <th>sibsp</th>\n",
       "      <th>parch</th>\n",
       "      <th>fare</th>\n",
       "      <th>embarked</th>\n",
       "      <th>title</th>\n",
       "    </tr>\n",
       "  </thead>\n",
       "  <tbody>\n",
       "    <tr>\n",
       "      <th>21</th>\n",
       "      <td>2</td>\n",
       "      <td>male</td>\n",
       "      <td>34.0</td>\n",
       "      <td>0</td>\n",
       "      <td>0</td>\n",
       "      <td>13.0000</td>\n",
       "      <td>S</td>\n",
       "      <td>Mr</td>\n",
       "    </tr>\n",
       "    <tr>\n",
       "      <th>172</th>\n",
       "      <td>3</td>\n",
       "      <td>female</td>\n",
       "      <td>1.0</td>\n",
       "      <td>1</td>\n",
       "      <td>1</td>\n",
       "      <td>11.1333</td>\n",
       "      <td>S</td>\n",
       "      <td>Miss</td>\n",
       "    </tr>\n",
       "    <tr>\n",
       "      <th>327</th>\n",
       "      <td>2</td>\n",
       "      <td>female</td>\n",
       "      <td>36.0</td>\n",
       "      <td>0</td>\n",
       "      <td>0</td>\n",
       "      <td>13.0000</td>\n",
       "      <td>S</td>\n",
       "      <td>Mrs</td>\n",
       "    </tr>\n",
       "    <tr>\n",
       "      <th>713</th>\n",
       "      <td>3</td>\n",
       "      <td>male</td>\n",
       "      <td>29.0</td>\n",
       "      <td>0</td>\n",
       "      <td>0</td>\n",
       "      <td>9.4833</td>\n",
       "      <td>S</td>\n",
       "      <td>Mr</td>\n",
       "    </tr>\n",
       "    <tr>\n",
       "      <th>512</th>\n",
       "      <td>1</td>\n",
       "      <td>male</td>\n",
       "      <td>36.0</td>\n",
       "      <td>0</td>\n",
       "      <td>0</td>\n",
       "      <td>26.2875</td>\n",
       "      <td>S</td>\n",
       "      <td>Mr</td>\n",
       "    </tr>\n",
       "  </tbody>\n",
       "</table>\n",
       "</div>"
      ],
      "text/plain": [
       "     pclass     sex   age  sibsp  parch     fare embarked  title\n",
       "21        2    male  34.0      0      0  13.0000        S     Mr\n",
       "172       3  female   1.0      1      1  11.1333        S   Miss\n",
       "327       2  female  36.0      0      0  13.0000        S    Mrs\n",
       "713       3    male  29.0      0      0   9.4833        S     Mr\n",
       "512       1    male  36.0      0      0  26.2875        S     Mr"
      ]
     },
     "execution_count": 52,
     "metadata": {},
     "output_type": "execute_result"
    }
   ],
   "source": [
    "X_train_val.head()"
   ]
  },
  {
   "cell_type": "code",
   "execution_count": 53,
   "metadata": {},
   "outputs": [
    {
     "data": {
      "text/plain": [
       "84.15468749999992"
      ]
     },
     "execution_count": 53,
     "metadata": {},
     "output_type": "execute_result"
    }
   ],
   "source": [
    "#mencari harga tiket rose\n",
    "\n",
    "titanic[titanic['pclass'] == 1]['fare'].mean()"
   ]
  },
  {
   "cell_type": "code",
   "execution_count": 54,
   "metadata": {},
   "outputs": [
    {
     "data": {
      "text/plain": [
       "array([1], dtype=int64)"
      ]
     },
     "execution_count": 54,
     "metadata": {},
     "output_type": "execute_result"
    }
   ],
   "source": [
    "#predict rose\n",
    "\n",
    "    #pclass, sex, age, sib, parch, fare, embarked, title\n",
    "rose  = [[1, 'female', 17, 1, 1, 85, 'S', 'Miss']]\n",
    "model_default.predict(pd.DataFrame(rose, columns = X_train_val.columns))"
   ]
  },
  {
   "cell_type": "markdown",
   "metadata": {},
   "source": [
    "__Rose diprediksi selamat__"
   ]
  },
  {
   "cell_type": "code",
   "execution_count": 55,
   "metadata": {},
   "outputs": [
    {
     "data": {
      "text/plain": [
       "array([0], dtype=int64)"
      ]
     },
     "execution_count": 55,
     "metadata": {},
     "output_type": "execute_result"
    }
   ],
   "source": [
    "#predict jack\n",
    "\n",
    "    #pclass, sex, age, sib, parch, fare, embarked, title\n",
    "rose  = [[3, 'male', 20, 0, 0, 0, 'S', 'Mr']]\n",
    "model_default.predict(pd.DataFrame(rose, columns = X_train_val.columns))"
   ]
  },
  {
   "cell_type": "markdown",
   "metadata": {},
   "source": [
    "__Jack diprediksi tidak selamat__"
   ]
  }
 ],
 "metadata": {
  "kernelspec": {
   "display_name": "Python 3",
   "language": "python",
   "name": "python3"
  },
  "language_info": {
   "codemirror_mode": {
    "name": "ipython",
    "version": 3
   },
   "file_extension": ".py",
   "mimetype": "text/x-python",
   "name": "python",
   "nbconvert_exporter": "python",
   "pygments_lexer": "ipython3",
   "version": "3.8.5"
  }
 },
 "nbformat": 4,
 "nbformat_minor": 4
}
