{
 "cells": [
  {
   "cell_type": "markdown",
   "metadata": {},
   "source": [
    "# Python Exercise : KNN"
   ]
  },
  {
   "cell_type": "markdown",
   "metadata": {},
   "source": [
    "![image.png](data:image/png;base64,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)"
   ]
  },
  {
   "cell_type": "code",
   "execution_count": 1,
   "metadata": {},
   "outputs": [],
   "source": [
    "import pandas as pd\n",
    "import numpy as np\n",
    "import matplotlib.pyplot as plt\n",
    "import seaborn as sns\n",
    "\n",
    "from sklearn.model_selection import train_test_split\n",
    "from sklearn.neighbors import KNeighborsClassifier\n",
    "from sklearn.metrics import confusion_matrix, accuracy_score, classification_report"
   ]
  },
  {
   "cell_type": "code",
   "execution_count": 2,
   "metadata": {},
   "outputs": [
    {
     "data": {
      "text/html": [
       "<div>\n",
       "<style scoped>\n",
       "    .dataframe tbody tr th:only-of-type {\n",
       "        vertical-align: middle;\n",
       "    }\n",
       "\n",
       "    .dataframe tbody tr th {\n",
       "        vertical-align: top;\n",
       "    }\n",
       "\n",
       "    .dataframe thead th {\n",
       "        text-align: right;\n",
       "    }\n",
       "</style>\n",
       "<table border=\"1\" class=\"dataframe\">\n",
       "  <thead>\n",
       "    <tr style=\"text-align: right;\">\n",
       "      <th></th>\n",
       "      <th>fixed acidity</th>\n",
       "      <th>volatile acidity</th>\n",
       "      <th>citric acid</th>\n",
       "      <th>residual sugar</th>\n",
       "      <th>chlorides</th>\n",
       "      <th>free sulfur dioxide</th>\n",
       "      <th>total sulfur dioxide</th>\n",
       "      <th>density</th>\n",
       "      <th>pH</th>\n",
       "      <th>sulphates</th>\n",
       "      <th>alcohol</th>\n",
       "      <th>quality</th>\n",
       "    </tr>\n",
       "  </thead>\n",
       "  <tbody>\n",
       "    <tr>\n",
       "      <th>0</th>\n",
       "      <td>7.0</td>\n",
       "      <td>0.27</td>\n",
       "      <td>0.36</td>\n",
       "      <td>20.7</td>\n",
       "      <td>0.045</td>\n",
       "      <td>45.0</td>\n",
       "      <td>170.0</td>\n",
       "      <td>1.0010</td>\n",
       "      <td>3.00</td>\n",
       "      <td>0.45</td>\n",
       "      <td>8.8</td>\n",
       "      <td>6.0</td>\n",
       "    </tr>\n",
       "    <tr>\n",
       "      <th>1</th>\n",
       "      <td>6.3</td>\n",
       "      <td>0.30</td>\n",
       "      <td>0.34</td>\n",
       "      <td>1.6</td>\n",
       "      <td>0.049</td>\n",
       "      <td>14.0</td>\n",
       "      <td>132.0</td>\n",
       "      <td>0.9940</td>\n",
       "      <td>3.30</td>\n",
       "      <td>0.49</td>\n",
       "      <td>9.5</td>\n",
       "      <td>6.0</td>\n",
       "    </tr>\n",
       "    <tr>\n",
       "      <th>2</th>\n",
       "      <td>8.1</td>\n",
       "      <td>0.28</td>\n",
       "      <td>0.40</td>\n",
       "      <td>6.9</td>\n",
       "      <td>0.050</td>\n",
       "      <td>30.0</td>\n",
       "      <td>97.0</td>\n",
       "      <td>0.9951</td>\n",
       "      <td>3.26</td>\n",
       "      <td>0.44</td>\n",
       "      <td>10.1</td>\n",
       "      <td>6.0</td>\n",
       "    </tr>\n",
       "    <tr>\n",
       "      <th>3</th>\n",
       "      <td>7.2</td>\n",
       "      <td>0.23</td>\n",
       "      <td>0.32</td>\n",
       "      <td>8.5</td>\n",
       "      <td>0.058</td>\n",
       "      <td>47.0</td>\n",
       "      <td>186.0</td>\n",
       "      <td>0.9956</td>\n",
       "      <td>3.19</td>\n",
       "      <td>0.40</td>\n",
       "      <td>9.9</td>\n",
       "      <td>6.0</td>\n",
       "    </tr>\n",
       "    <tr>\n",
       "      <th>4</th>\n",
       "      <td>7.2</td>\n",
       "      <td>0.23</td>\n",
       "      <td>0.32</td>\n",
       "      <td>8.5</td>\n",
       "      <td>0.058</td>\n",
       "      <td>47.0</td>\n",
       "      <td>186.0</td>\n",
       "      <td>0.9956</td>\n",
       "      <td>3.19</td>\n",
       "      <td>0.40</td>\n",
       "      <td>9.9</td>\n",
       "      <td>6.0</td>\n",
       "    </tr>\n",
       "    <tr>\n",
       "      <th>...</th>\n",
       "      <td>...</td>\n",
       "      <td>...</td>\n",
       "      <td>...</td>\n",
       "      <td>...</td>\n",
       "      <td>...</td>\n",
       "      <td>...</td>\n",
       "      <td>...</td>\n",
       "      <td>...</td>\n",
       "      <td>...</td>\n",
       "      <td>...</td>\n",
       "      <td>...</td>\n",
       "      <td>...</td>\n",
       "    </tr>\n",
       "    <tr>\n",
       "      <th>515</th>\n",
       "      <td>6.1</td>\n",
       "      <td>0.31</td>\n",
       "      <td>0.26</td>\n",
       "      <td>2.2</td>\n",
       "      <td>0.051</td>\n",
       "      <td>28.0</td>\n",
       "      <td>167.0</td>\n",
       "      <td>0.9926</td>\n",
       "      <td>3.37</td>\n",
       "      <td>0.47</td>\n",
       "      <td>10.4</td>\n",
       "      <td>6.0</td>\n",
       "    </tr>\n",
       "    <tr>\n",
       "      <th>516</th>\n",
       "      <td>6.8</td>\n",
       "      <td>0.18</td>\n",
       "      <td>0.37</td>\n",
       "      <td>1.6</td>\n",
       "      <td>0.055</td>\n",
       "      <td>47.0</td>\n",
       "      <td>154.0</td>\n",
       "      <td>0.9934</td>\n",
       "      <td>3.08</td>\n",
       "      <td>0.45</td>\n",
       "      <td>9.1</td>\n",
       "      <td>5.0</td>\n",
       "    </tr>\n",
       "    <tr>\n",
       "      <th>517</th>\n",
       "      <td>7.4</td>\n",
       "      <td>0.15</td>\n",
       "      <td>0.42</td>\n",
       "      <td>1.7</td>\n",
       "      <td>0.045</td>\n",
       "      <td>49.0</td>\n",
       "      <td>154.0</td>\n",
       "      <td>0.9920</td>\n",
       "      <td>3.00</td>\n",
       "      <td>0.60</td>\n",
       "      <td>10.4</td>\n",
       "      <td>6.0</td>\n",
       "    </tr>\n",
       "    <tr>\n",
       "      <th>518</th>\n",
       "      <td>5.9</td>\n",
       "      <td>0.13</td>\n",
       "      <td>0.28</td>\n",
       "      <td>1.9</td>\n",
       "      <td>0.050</td>\n",
       "      <td>20.0</td>\n",
       "      <td>78.0</td>\n",
       "      <td>0.9918</td>\n",
       "      <td>3.43</td>\n",
       "      <td>0.64</td>\n",
       "      <td>10.8</td>\n",
       "      <td>6.0</td>\n",
       "    </tr>\n",
       "    <tr>\n",
       "      <th>519</th>\n",
       "      <td>7.2</td>\n",
       "      <td>0.34</td>\n",
       "      <td>0.34</td>\n",
       "      <td>12.6</td>\n",
       "      <td>0.048</td>\n",
       "      <td>7.0</td>\n",
       "      <td>41.0</td>\n",
       "      <td>0.9940</td>\n",
       "      <td>NaN</td>\n",
       "      <td>NaN</td>\n",
       "      <td>NaN</td>\n",
       "      <td>NaN</td>\n",
       "    </tr>\n",
       "  </tbody>\n",
       "</table>\n",
       "<p>520 rows × 12 columns</p>\n",
       "</div>"
      ],
      "text/plain": [
       "     fixed acidity  volatile acidity  citric acid  residual sugar  chlorides  \\\n",
       "0              7.0              0.27         0.36            20.7      0.045   \n",
       "1              6.3              0.30         0.34             1.6      0.049   \n",
       "2              8.1              0.28         0.40             6.9      0.050   \n",
       "3              7.2              0.23         0.32             8.5      0.058   \n",
       "4              7.2              0.23         0.32             8.5      0.058   \n",
       "..             ...               ...          ...             ...        ...   \n",
       "515            6.1              0.31         0.26             2.2      0.051   \n",
       "516            6.8              0.18         0.37             1.6      0.055   \n",
       "517            7.4              0.15         0.42             1.7      0.045   \n",
       "518            5.9              0.13         0.28             1.9      0.050   \n",
       "519            7.2              0.34         0.34            12.6      0.048   \n",
       "\n",
       "     free sulfur dioxide  total sulfur dioxide  density    pH  sulphates  \\\n",
       "0                   45.0                 170.0   1.0010  3.00       0.45   \n",
       "1                   14.0                 132.0   0.9940  3.30       0.49   \n",
       "2                   30.0                  97.0   0.9951  3.26       0.44   \n",
       "3                   47.0                 186.0   0.9956  3.19       0.40   \n",
       "4                   47.0                 186.0   0.9956  3.19       0.40   \n",
       "..                   ...                   ...      ...   ...        ...   \n",
       "515                 28.0                 167.0   0.9926  3.37       0.47   \n",
       "516                 47.0                 154.0   0.9934  3.08       0.45   \n",
       "517                 49.0                 154.0   0.9920  3.00       0.60   \n",
       "518                 20.0                  78.0   0.9918  3.43       0.64   \n",
       "519                  7.0                  41.0   0.9940   NaN        NaN   \n",
       "\n",
       "     alcohol  quality  \n",
       "0        8.8      6.0  \n",
       "1        9.5      6.0  \n",
       "2       10.1      6.0  \n",
       "3        9.9      6.0  \n",
       "4        9.9      6.0  \n",
       "..       ...      ...  \n",
       "515     10.4      6.0  \n",
       "516      9.1      5.0  \n",
       "517     10.4      6.0  \n",
       "518     10.8      6.0  \n",
       "519      NaN      NaN  \n",
       "\n",
       "[520 rows x 12 columns]"
      ]
     },
     "execution_count": 2,
     "metadata": {},
     "output_type": "execute_result"
    }
   ],
   "source": [
    "#1. import data\n",
    "\n",
    "wine = pd.read_csv('white_wine.csv')\n",
    "wine"
   ]
  },
  {
   "cell_type": "code",
   "execution_count": 3,
   "metadata": {},
   "outputs": [],
   "source": [
    "#2. mengkategorikan value menjadi dua kelas\n",
    "\n",
    "wine['label'] = np.where(wine['quality'] > 6, 1, 0)"
   ]
  },
  {
   "cell_type": "code",
   "execution_count": 4,
   "metadata": {},
   "outputs": [
    {
     "data": {
      "image/png": "[encoded data removed]",
      "text/plain": [
       "<Figure size 432x288 with 1 Axes>"
      ]
     },
     "metadata": {
      "needs_background": "light"
     },
     "output_type": "display_data"
    }
   ],
   "source": [
    "#3. membuat plot density dan alkohol berdasarkan label\n",
    "\n",
    "sns.scatterplot(x = 'density', y='alcohol', data=wine, hue='label')\n",
    "plt.xlim(0.990,1.002)\n",
    "plt.show()\n",
    "\n",
    "#sudah terlihat secara samar decision boundarynya"
   ]
  },
  {
   "cell_type": "code",
   "execution_count": 5,
   "metadata": {},
   "outputs": [
    {
     "data": {
      "text/html": [
       "<div>\n",
       "<style scoped>\n",
       "    .dataframe tbody tr th:only-of-type {\n",
       "        vertical-align: middle;\n",
       "    }\n",
       "\n",
       "    .dataframe tbody tr th {\n",
       "        vertical-align: top;\n",
       "    }\n",
       "\n",
       "    .dataframe thead th {\n",
       "        text-align: right;\n",
       "    }\n",
       "</style>\n",
       "<table border=\"1\" class=\"dataframe\">\n",
       "  <thead>\n",
       "    <tr style=\"text-align: right;\">\n",
       "      <th></th>\n",
       "      <th>alcohol</th>\n",
       "      <th>density</th>\n",
       "    </tr>\n",
       "  </thead>\n",
       "  <tbody>\n",
       "    <tr>\n",
       "      <th>count</th>\n",
       "      <td>519.000000</td>\n",
       "      <td>520.000000</td>\n",
       "    </tr>\n",
       "    <tr>\n",
       "      <th>mean</th>\n",
       "      <td>10.119461</td>\n",
       "      <td>0.995374</td>\n",
       "    </tr>\n",
       "    <tr>\n",
       "      <th>std</th>\n",
       "      <td>1.087835</td>\n",
       "      <td>0.002613</td>\n",
       "    </tr>\n",
       "    <tr>\n",
       "      <th>min</th>\n",
       "      <td>8.500000</td>\n",
       "      <td>0.989900</td>\n",
       "    </tr>\n",
       "    <tr>\n",
       "      <th>25%</th>\n",
       "      <td>9.300000</td>\n",
       "      <td>0.993400</td>\n",
       "    </tr>\n",
       "    <tr>\n",
       "      <th>50%</th>\n",
       "      <td>9.900000</td>\n",
       "      <td>0.995400</td>\n",
       "    </tr>\n",
       "    <tr>\n",
       "      <th>75%</th>\n",
       "      <td>10.700000</td>\n",
       "      <td>0.997400</td>\n",
       "    </tr>\n",
       "    <tr>\n",
       "      <th>max</th>\n",
       "      <td>12.900000</td>\n",
       "      <td>1.003300</td>\n",
       "    </tr>\n",
       "  </tbody>\n",
       "</table>\n",
       "</div>"
      ],
      "text/plain": [
       "          alcohol     density\n",
       "count  519.000000  520.000000\n",
       "mean    10.119461    0.995374\n",
       "std      1.087835    0.002613\n",
       "min      8.500000    0.989900\n",
       "25%      9.300000    0.993400\n",
       "50%      9.900000    0.995400\n",
       "75%     10.700000    0.997400\n",
       "max     12.900000    1.003300"
      ]
     },
     "execution_count": 5,
     "metadata": {},
     "output_type": "execute_result"
    }
   ],
   "source": [
    "#mengecek describe data\n",
    "\n",
    "#terlhat min & max di dua kolom berbeda signifikan, ini menjadi sinyal kita harus melakukan scalling\n",
    "\n",
    "wine[['alcohol', 'density']].describe()"
   ]
  },
  {
   "cell_type": "code",
   "execution_count": 6,
   "metadata": {},
   "outputs": [
    {
     "data": {
      "text/plain": [
       "alcohol    1\n",
       "density    0\n",
       "dtype: int64"
      ]
     },
     "execution_count": 6,
     "metadata": {},
     "output_type": "execute_result"
    }
   ],
   "source": [
    "#mengecek data yg null\n",
    "\n",
    "wine[['alcohol', 'density']].isnull().sum()"
   ]
  },
  {
   "cell_type": "code",
   "execution_count": 7,
   "metadata": {},
   "outputs": [],
   "source": [
    "#mengisi data yg kosong\n",
    "\n",
    "wine['alcohol'].fillna(wine['alcohol'].mean(), inplace=True)"
   ]
  },
  {
   "cell_type": "code",
   "execution_count": 8,
   "metadata": {},
   "outputs": [
    {
     "data": {
      "text/plain": [
       "alcohol    0\n",
       "density    0\n",
       "dtype: int64"
      ]
     },
     "execution_count": 8,
     "metadata": {},
     "output_type": "execute_result"
    }
   ],
   "source": [
    "#mengecek lagi buat makesure\n",
    "\n",
    "wine[['alcohol', 'density']].isnull().sum()"
   ]
  },
  {
   "cell_type": "code",
   "execution_count": 9,
   "metadata": {},
   "outputs": [],
   "source": [
    "#menentukan variabel dependen dan independen\n",
    "\n",
    "X = wine[['alcohol', 'density']]\n",
    "y = wine['label']\n"
   ]
  },
  {
   "cell_type": "code",
   "execution_count": 10,
   "metadata": {},
   "outputs": [],
   "source": [
    "#melakukan data splitting\n",
    "\n",
    "X_train, X_test, y_train, y_test = train_test_split(X, y, stratify=y, test_size=0.2, random_state=2021)"
   ]
  },
  {
   "cell_type": "code",
   "execution_count": 11,
   "metadata": {},
   "outputs": [
    {
     "data": {
      "text/plain": [
       "0      0\n",
       "1      0\n",
       "2      0\n",
       "3      0\n",
       "4      0\n",
       "      ..\n",
       "515    0\n",
       "516    0\n",
       "517    0\n",
       "518    0\n",
       "519    0\n",
       "Name: label, Length: 520, dtype: int32"
      ]
     },
     "execution_count": 11,
     "metadata": {},
     "output_type": "execute_result"
    }
   ],
   "source": [
    "y"
   ]
  },
  {
   "cell_type": "markdown",
   "metadata": {},
   "source": [
    "> ## KNN Without Scalling"
   ]
  },
  {
   "cell_type": "code",
   "execution_count": 12,
   "metadata": {},
   "outputs": [],
   "source": [
    "#Membuat model KNN\n",
    "\n",
    "knn = KNeighborsClassifier(n_neighbors=3)\n",
    "knn.fit(X_train, y_train)\n"
   ]
  },
  {
   "cell_type": "code",
   "execution_count": null,
   "metadata": {},
   "outputs": [],
   "source": [
    "#Melakukan prediksi\n",
    "\n",
    "y_pred = knn.predict(X_test)"
   ]
  },
  {
   "cell_type": "code",
   "execution_count": 24,
   "metadata": {},
   "outputs": [
    {
     "name": "stdout",
     "output_type": "stream",
     "text": [
      "KNN(3) Accuracy Score: 0.8942307692307693\n"
     ]
    }
   ],
   "source": [
    "#model performance : mencari accuracy score\n",
    "\n",
    "print('KNN(3) Accuracy Score:', accuracy_score(y_test, y_pred))"
   ]
  },
  {
   "cell_type": "code",
   "execution_count": 14,
   "metadata": {},
   "outputs": [
    {
     "data": {
      "text/plain": [
       "array([[80,  4],\n",
       "       [ 7, 13]], dtype=int64)"
      ]
     },
     "execution_count": 14,
     "metadata": {},
     "output_type": "execute_result"
    }
   ],
   "source": [
    "#model performance : mencari confusion matrix\n",
    "\n",
    "confusion_matrix(y_test, y_pred)"
   ]
  },
  {
   "cell_type": "markdown",
   "metadata": {},
   "source": [
    "__Cara meningkatkan akurasi:__\n",
    "1. Menggunakan scaling\n",
    "2. Memilih faktor K"
   ]
  },
  {
   "cell_type": "markdown",
   "metadata": {},
   "source": [
    "> ## KNN With Scalling"
   ]
  },
  {
   "cell_type": "markdown",
   "metadata": {},
   "source": [
    "![image.png](data:image/png;base64,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)"
   ]
  },
  {
   "cell_type": "code",
   "execution_count": 16,
   "metadata": {},
   "outputs": [],
   "source": [
    "#Melakukan feature scalling (bestpractice: X-nya saja yg di scalling)\n",
    "\n",
    "from sklearn.preprocessing import MinMaxScaler\n",
    "\n",
    "scaler = MinMaxScaler()\n",
    "scaler.fit(X_train) #preprocess fit\n",
    "X_train_scaled = scaler.transform(X_train) #transform train set\n",
    "X_test_scaled = scaler.transform(X_test) #transform test set"
   ]
  },
  {
   "cell_type": "code",
   "execution_count": 17,
   "metadata": {},
   "outputs": [],
   "source": [
    "#Melakukan model dengan x_train dan x_test yg telah di scalling\n",
    "\n",
    "knn_scaled = KNeighborsClassifier(n_neighbors=3)\n",
    "knn_scaled.fit(X_train_scaled, y_train)"
   ]
  },
  {
   "cell_type": "code",
   "execution_count": null,
   "metadata": {},
   "outputs": [],
   "source": [
    "#Melakukan prediksi dari x_test yg telah di scaled\n",
    "\n",
    "y_pred_scaled = knn_scaled.predict(X_test_scaled)"
   ]
  },
  {
   "cell_type": "code",
   "execution_count": 18,
   "metadata": {},
   "outputs": [
    {
     "name": "stdout",
     "output_type": "stream",
     "text": [
      "KNN with scaled data accuracy score: 0.9807692307692307\n"
     ]
    }
   ],
   "source": [
    "#mencari accuracy score atau model performance dari ypred yg telah di scaled\n",
    "\n",
    "print('KNN with scaled data accuracy score:', accuracy_score(y_test, y_pred_scaled))\n",
    "\n",
    "#accuracy nya naik setelah di scalling"
   ]
  },
  {
   "cell_type": "code",
   "execution_count": 19,
   "metadata": {},
   "outputs": [
    {
     "data": {
      "text/plain": [
       "array([[84,  0],\n",
       "       [ 2, 18]], dtype=int64)"
      ]
     },
     "execution_count": 19,
     "metadata": {},
     "output_type": "execute_result"
    }
   ],
   "source": [
    "#model performance : mencari confusion matrix\n",
    "\n",
    "confusion_matrix(y_test, y_pred_scaled)\n",
    "\n",
    "#confusion matrixnya naik setelah di scalling"
   ]
  },
  {
   "cell_type": "markdown",
   "metadata": {},
   "source": [
    "> ## + Choose Factor K"
   ]
  },
  {
   "cell_type": "code",
   "execution_count": 25,
   "metadata": {},
   "outputs": [],
   "source": [
    "#Menentukan best factor K\n",
    "\n",
    "k = range(1,30,2) #(jumlah kelas ganjil)\n",
    "testing_accuracies = []\n",
    "training_accuracies = []\n",
    "score = 0\n",
    "\n",
    "for i in k:\n",
    "    knn_ = KNeighborsClassifier(n_neighbors=i)\n",
    "    knn_.fit(X_train_scaled, y_train)\n",
    "    \n",
    "    y_predict_train = knn_.predict(X_train_scaled)\n",
    "    training_accuracies.append(accuracy_score(y_train, y_predict_train))\n",
    "    \n",
    "    y_predict_test = knn_.predict(X_test_scaled)\n",
    "    testing_accuracies.append(accuracy_score(y_test, y_predict_test))\n",
    "    \n",
    "    acc_score = accuracy_score(y_test, y_predict_test)\n",
    "    \n",
    "    if score < acc_score:\n",
    "        score = acc_score\n",
    "        best_k = i"
   ]
  },
  {
   "cell_type": "code",
   "execution_count": 21,
   "metadata": {},
   "outputs": [
    {
     "name": "stderr",
     "output_type": "stream",
     "text": [
      "C:\\Users\\asus\\anaconda3\\lib\\site-packages\\seaborn\\_decorators.py:36: FutureWarning: Pass the following variables as keyword args: x, y. From version 0.12, the only valid positional argument will be `data`, and passing other arguments without an explicit keyword will result in an error or misinterpretation.\n",
      "  warnings.warn(\n",
      "C:\\Users\\asus\\anaconda3\\lib\\site-packages\\seaborn\\_decorators.py:36: FutureWarning: Pass the following variables as keyword args: x, y. From version 0.12, the only valid positional argument will be `data`, and passing other arguments without an explicit keyword will result in an error or misinterpretation.\n",
      "  warnings.warn(\n"
     ]
    },
    {
     "data": {
      "image/png": "[encoded data removed]",
      "text/plain": [
       "<Figure size 720x504 with 1 Axes>"
      ]
     },
     "metadata": {
      "needs_background": "light"
     },
     "output_type": "display_data"
    }
   ],
   "source": [
    "#membuat plot untuk melihat hasil diatas\n",
    "\n",
    "plt.figure(figsize=(10,7))\n",
    "sns.lineplot(k, testing_accuracies, markers=training_accuracies)\n",
    "sns.lineplot(k, training_accuracies, markers=training_accuracies)\n",
    "plt.legend(['testing accuracies', 'training accuracies'])\n",
    "plt.show()\n",
    "\n",
    "#cek yg gapnya paling kecil tapi jangan sampe tidak ada gap (alias gaboleh nempel)\n",
    "#best K berdasarkan plot yaitu antara 5 atau 113 (testing accuracy lebih besar dibanding train accuracy tapi cari gapnya yg paling kecil)"
   ]
  },
  {
   "cell_type": "markdown",
   "metadata": {},
   "source": [
    "__Kesimpulan:__\n",
    "<br> k = 1 ==> overfitting\n",
    "<br> Overfitting : nilai nilai train accuracy > testing accuracy\n",
    "<br> Underfitting : nilai testing  dan train accuracy jelek"
   ]
  },
  {
   "cell_type": "code",
   "execution_count": 22,
   "metadata": {},
   "outputs": [
    {
     "name": "stdout",
     "output_type": "stream",
     "text": [
      "best_k: 1\n",
      "best_score: 0.9807692307692307\n"
     ]
    }
   ],
   "source": [
    "#melihat kelas terbaik dan score terbaik\n",
    "\n",
    "print('best_k:', best_k) #hasil kurang masuk akal\n",
    "print('best_score:', score)"
   ]
  },
  {
   "cell_type": "code",
   "execution_count": 23,
   "metadata": {},
   "outputs": [
    {
     "data": {
      "text/plain": [
       "[0.9807692307692307,\n",
       " 0.9807692307692307,\n",
       " 0.9807692307692307,\n",
       " 0.9711538461538461,\n",
       " 0.9711538461538461,\n",
       " 0.9711538461538461,\n",
       " 0.9807692307692307,\n",
       " 0.9615384615384616,\n",
       " 0.9519230769230769,\n",
       " 0.9615384615384616,\n",
       " 0.9519230769230769,\n",
       " 0.9519230769230769,\n",
       " 0.9519230769230769,\n",
       " 0.9519230769230769,\n",
       " 0.9519230769230769]"
      ]
     },
     "execution_count": 23,
     "metadata": {},
     "output_type": "execute_result"
    }
   ],
   "source": [
    "#melihat testing accuracies semua kelas\n",
    "\n",
    "testing_accuracies\n",
    "\n",
    "#hasilnya itu berupa kelas ganjil, urutan hasil:\n",
    "#1\n",
    "#3\n",
    "#5"
   ]
  }
 ],
 "metadata": {
  "kernelspec": {
   "display_name": "Python 3",
   "language": "python",
   "name": "python3"
  },
  "language_info": {
   "codemirror_mode": {
    "name": "ipython",
    "version": 3
   },
   "file_extension": ".py",
   "mimetype": "text/x-python",
   "name": "python",
   "nbconvert_exporter": "python",
   "pygments_lexer": "ipython3",
   "version": "3.8.5"
  }
 },
 "nbformat": 4,
 "nbformat_minor": 4
}
