{
 "cells": [
  {
   "cell_type": "code",
   "execution_count": 1,
   "metadata": {},
   "outputs": [],
   "source": [
    "import pandas as pd\n",
    "import numpy as np\n",
    "\n",
    "import seaborn as sns\n",
    "import matplotlib.pyplot as plt\n",
    "\n",
    "from sklearn.datasets import load_boston\n",
    "\n",
    "from sklearn.preprocessing import MinMaxScaler\n",
    "from sklearn.model_selection import train_test_split\n",
    "\n",
    "from sklearn.neighbors import KNeighborsClassifier\n",
    "from sklearn.tree import DecisionTreeClassifier\n",
    "from sklearn.linear_model import LogisticRegression, LinearRegression, Lasso, Ridge\n",
    "\n",
    "from sklearn.metrics import accuracy_score\n",
    "from sklearn.metrics import mean_squared_error\n",
    "\n",
    "import warnings\n",
    "warnings.filterwarnings('ignore')"
   ]
  },
  {
   "cell_type": "markdown",
   "metadata": {},
   "source": [
    "## __1. Undefitting and Overfitting : KNN__"
   ]
  },
  {
   "cell_type": "markdown",
   "metadata": {},
   "source": [
    "![image.png](data:image/png;base64,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)"
   ]
  },
  {
   "cell_type": "code",
   "execution_count": 2,
   "metadata": {},
   "outputs": [
    {
     "data": {
      "text/html": [
       "<div>\n",
       "<style scoped>\n",
       "    .dataframe tbody tr th:only-of-type {\n",
       "        vertical-align: middle;\n",
       "    }\n",
       "\n",
       "    .dataframe tbody tr th {\n",
       "        vertical-align: top;\n",
       "    }\n",
       "\n",
       "    .dataframe thead th {\n",
       "        text-align: right;\n",
       "    }\n",
       "</style>\n",
       "<table border=\"1\" class=\"dataframe\">\n",
       "  <thead>\n",
       "    <tr style=\"text-align: right;\">\n",
       "      <th></th>\n",
       "      <th>age</th>\n",
       "      <th>ed</th>\n",
       "      <th>employ</th>\n",
       "      <th>address</th>\n",
       "      <th>income</th>\n",
       "      <th>debtinc</th>\n",
       "      <th>creddebt</th>\n",
       "      <th>othdebt</th>\n",
       "      <th>default</th>\n",
       "    </tr>\n",
       "  </thead>\n",
       "  <tbody>\n",
       "    <tr>\n",
       "      <th>0</th>\n",
       "      <td>41</td>\n",
       "      <td>3</td>\n",
       "      <td>17</td>\n",
       "      <td>12</td>\n",
       "      <td>176</td>\n",
       "      <td>9.3</td>\n",
       "      <td>11.359392</td>\n",
       "      <td>5.008608</td>\n",
       "      <td>1</td>\n",
       "    </tr>\n",
       "    <tr>\n",
       "      <th>1</th>\n",
       "      <td>27</td>\n",
       "      <td>1</td>\n",
       "      <td>10</td>\n",
       "      <td>6</td>\n",
       "      <td>31</td>\n",
       "      <td>17.3</td>\n",
       "      <td>1.362202</td>\n",
       "      <td>4.000798</td>\n",
       "      <td>0</td>\n",
       "    </tr>\n",
       "    <tr>\n",
       "      <th>2</th>\n",
       "      <td>40</td>\n",
       "      <td>1</td>\n",
       "      <td>15</td>\n",
       "      <td>14</td>\n",
       "      <td>55</td>\n",
       "      <td>5.5</td>\n",
       "      <td>0.856075</td>\n",
       "      <td>2.168925</td>\n",
       "      <td>0</td>\n",
       "    </tr>\n",
       "    <tr>\n",
       "      <th>3</th>\n",
       "      <td>41</td>\n",
       "      <td>1</td>\n",
       "      <td>15</td>\n",
       "      <td>14</td>\n",
       "      <td>120</td>\n",
       "      <td>2.9</td>\n",
       "      <td>2.658720</td>\n",
       "      <td>0.821280</td>\n",
       "      <td>0</td>\n",
       "    </tr>\n",
       "    <tr>\n",
       "      <th>4</th>\n",
       "      <td>24</td>\n",
       "      <td>2</td>\n",
       "      <td>2</td>\n",
       "      <td>0</td>\n",
       "      <td>28</td>\n",
       "      <td>17.3</td>\n",
       "      <td>1.787436</td>\n",
       "      <td>3.056564</td>\n",
       "      <td>1</td>\n",
       "    </tr>\n",
       "  </tbody>\n",
       "</table>\n",
       "</div>"
      ],
      "text/plain": [
       "   age  ed  employ  address  income  debtinc   creddebt   othdebt  default\n",
       "0   41   3      17       12     176      9.3  11.359392  5.008608        1\n",
       "1   27   1      10        6      31     17.3   1.362202  4.000798        0\n",
       "2   40   1      15       14      55      5.5   0.856075  2.168925        0\n",
       "3   41   1      15       14     120      2.9   2.658720  0.821280        0\n",
       "4   24   2       2        0      28     17.3   1.787436  3.056564        1"
      ]
     },
     "execution_count": 2,
     "metadata": {},
     "output_type": "execute_result"
    }
   ],
   "source": [
    "#1. Input dataset\n",
    "\n",
    "bankloan = pd.read_csv('bankloan.csv')\n",
    "bankloan.head()"
   ]
  },
  {
   "cell_type": "code",
   "execution_count": 3,
   "metadata": {},
   "outputs": [],
   "source": [
    "#2. Menentukan variabel dependen dan independen\n",
    "\n",
    "fitur = ['employ', 'debtinc', 'creddebt', 'othdebt']\n",
    "target = ['default']\n",
    "\n",
    "X = bankloan[fitur]\n",
    "y = bankloan[target]"
   ]
  },
  {
   "cell_type": "code",
   "execution_count": 4,
   "metadata": {},
   "outputs": [
    {
     "data": {
      "text/plain": [
       "Index(['employ', 'debtinc', 'creddebt', 'othdebt'], dtype='object')"
      ]
     },
     "execution_count": 4,
     "metadata": {},
     "output_type": "execute_result"
    }
   ],
   "source": [
    "X.columns"
   ]
  },
  {
   "cell_type": "code",
   "execution_count": 5,
   "metadata": {},
   "outputs": [],
   "source": [
    "#3. Data Splitting\n",
    "\n",
    "X_train, X_test, y_train, y_test = train_test_split(X, y, test_size=.2, stratify=y, random_state=2021)"
   ]
  },
  {
   "cell_type": "code",
   "execution_count": 6,
   "metadata": {},
   "outputs": [],
   "source": [
    "#4. Melakukan feature scalling\n",
    "\n",
    "scaler = MinMaxScaler()\n",
    "scaler.fit(X_train)\n",
    "X_train_scaled = scaler.transform(X_train)\n",
    "X_test_scaled = scaler.transform(X_test)"
   ]
  },
  {
   "cell_type": "code",
   "execution_count": 7,
   "metadata": {},
   "outputs": [],
   "source": [
    "#5. Selection process of Factor K\n",
    "\n",
    "\n",
    "k = range(1,30,2)\n",
    "testing_accuracies = []\n",
    "training_accuracies = []\n",
    "score = 0\n",
    "\n",
    "for i in k:\n",
    "    knn_ = KNeighborsClassifier(n_neighbors=i)\n",
    "    knn_.fit(X_train_scaled, y_train)\n",
    "    \n",
    "    y_predict_train = knn_.predict(X_train_scaled)\n",
    "    training_accuracies.append(accuracy_score(y_train, y_predict_train))\n",
    "    \n",
    "    y_predict_test = knn_.predict(X_test_scaled)\n",
    "    testing_accuracies.append(accuracy_score(y_test, y_predict_test))\n",
    "    \n",
    "    acc_score = accuracy_score(y_test, y_predict_test)\n",
    "    \n",
    "    if score <= acc_score:\n",
    "        score = acc_score\n",
    "        best_k = i"
   ]
  },
  {
   "cell_type": "code",
   "execution_count": 8,
   "metadata": {},
   "outputs": [
    {
     "data": {
      "image/png": "[encoded data removed]",
      "text/plain": [
       "<Figure size 720x504 with 1 Axes>"
      ]
     },
     "metadata": {
      "needs_background": "light"
     },
     "output_type": "display_data"
    }
   ],
   "source": [
    "#7. #membuat plot untuk melihat hasil diatas\n",
    "\n",
    "plt.figure(figsize=(10,7))\n",
    "sns.lineplot(k, testing_accuracies, markers=training_accuracies)\n",
    "sns.lineplot(k, training_accuracies, markers=training_accuracies)\n",
    "plt.legend(['testing accuracies', 'training accuracies'])\n",
    "plt.show()"
   ]
  },
  {
   "cell_type": "code",
   "execution_count": 9,
   "metadata": {},
   "outputs": [
    {
     "name": "stdout",
     "output_type": "stream",
     "text": [
      "best k: 29\n",
      "accuracy: 0.8214285714285714\n"
     ]
    }
   ],
   "source": [
    "#melihat kelas terbaik dan score terbaik\n",
    "\n",
    "print('best k:', best_k)\n",
    "print('accuracy:', score)"
   ]
  },
  {
   "cell_type": "markdown",
   "metadata": {},
   "source": [
    "1. The best factor k for this case is 29 with 82.43 % accuracy\n",
    "1. For k = 1, the KNN method achieve 100 accuracy in training set but very bad accuracy in test set\n",
    "1. For k below 31, The ML method is getting overfitting while for k greater than 31 the ML method is getting underfitting"
   ]
  },
  {
   "cell_type": "markdown",
   "metadata": {},
   "source": [
    "# __2. Model Complexity : Decision Tree__"
   ]
  },
  {
   "cell_type": "markdown",
   "metadata": {},
   "source": [
    "![image.png](data:image/png;base64,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)"
   ]
  },
  {
   "cell_type": "code",
   "execution_count": 10,
   "metadata": {},
   "outputs": [],
   "source": [
    "#Selection Process of Maximum Depth\n",
    "\n",
    "#dt ==> gapake scalling\n",
    "\n",
    "depths = range(1,26)\n",
    "testing_accuracies = []\n",
    "training_accuracies = []\n",
    "score = 0\n",
    "\n",
    "for i in depths:\n",
    "    dtc_ = DecisionTreeClassifier(criterion='entropy', max_depth=i, random_state=2021)\n",
    "    dtc_.fit(X_train, y_train)\n",
    "    \n",
    "    y_predict_train = dtc_.predict(X_train)\n",
    "    training_accuracies.append(accuracy_score(y_train, y_predict_train))\n",
    "    \n",
    "    y_predict_test = dtc_.predict(X_test)\n",
    "    testing_accuracies.append(accuracy_score(y_test, y_predict_test))\n",
    "    \n",
    "    acc_score = accuracy_score(y_test, y_predict_test)\n",
    "    \n",
    "    if score < acc_score:\n",
    "        score = acc_score\n",
    "        best_depth = i"
   ]
  },
  {
   "cell_type": "code",
   "execution_count": 11,
   "metadata": {},
   "outputs": [
    {
     "data": {
      "image/png": "[encoded data removed]",
      "text/plain": [
       "<Figure size 720x504 with 1 Axes>"
      ]
     },
     "metadata": {
      "needs_background": "light"
     },
     "output_type": "display_data"
    }
   ],
   "source": [
    "#membuat plot untuk melihat hasil diatas\n",
    "\n",
    "plt.figure(figsize=(10,7))\n",
    "sns.lineplot(depths, testing_accuracies)\n",
    "sns.lineplot(depths, training_accuracies)\n",
    "plt.legend(['testing accuracy', 'training accuracy'])\n",
    "plt.show()"
   ]
  },
  {
   "cell_type": "code",
   "execution_count": 12,
   "metadata": {},
   "outputs": [
    {
     "name": "stdout",
     "output_type": "stream",
     "text": [
      "best max depth: 7\n",
      "accuracy: 0.7857142857142857\n"
     ]
    }
   ],
   "source": [
    "#melihat kelas terbaik dan score terbaik\n",
    "\n",
    "print('best max depth:', best_depth)\n",
    "print('accuracy:', score)"
   ]
  },
  {
   "cell_type": "code",
   "execution_count": 13,
   "metadata": {},
   "outputs": [
    {
     "data": {
      "text/plain": [
       "{1: (0.7660714285714286, 0.7428571428571429),\n",
       " 2: (0.775, 0.7428571428571429),\n",
       " 3: (0.7892857142857143, 0.75),\n",
       " 4: (0.8035714285714286, 0.75),\n",
       " 5: (0.8285714285714286, 0.7571428571428571),\n",
       " 6: (0.8553571428571428, 0.7785714285714286),\n",
       " 7: (0.8571428571428571, 0.7857142857142857),\n",
       " 8: (0.8803571428571428, 0.7714285714285715),\n",
       " 9: (0.8964285714285715, 0.7785714285714286),\n",
       " 10: (0.9267857142857143, 0.7642857142857142),\n",
       " 11: (0.9410714285714286, 0.7571428571428571),\n",
       " 12: (0.9678571428571429, 0.7785714285714286),\n",
       " 13: (0.9803571428571428, 0.7642857142857142),\n",
       " 14: (0.9892857142857143, 0.7714285714285715),\n",
       " 15: (0.9892857142857143, 0.7857142857142857),\n",
       " 16: (0.9964285714285714, 0.75),\n",
       " 17: (0.9964285714285714, 0.7857142857142857),\n",
       " 18: (1.0, 0.7785714285714286),\n",
       " 19: (1.0, 0.7785714285714286),\n",
       " 20: (1.0, 0.7785714285714286),\n",
       " 21: (1.0, 0.7785714285714286),\n",
       " 22: (1.0, 0.7785714285714286),\n",
       " 23: (1.0, 0.7785714285714286),\n",
       " 24: (1.0, 0.7785714285714286),\n",
       " 25: (1.0, 0.7785714285714286)}"
      ]
     },
     "execution_count": 13,
     "metadata": {},
     "output_type": "execute_result"
    }
   ],
   "source": [
    "#mengecek train dan test accuracy\n",
    "\n",
    "dict(zip(list(range(1,26)),list(zip(training_accuracies, testing_accuracies))))"
   ]
  },
  {
   "cell_type": "markdown",
   "metadata": {},
   "source": [
    "> ## Exercise : Try different value of minimum samples split or minimum samples leaf"
   ]
  },
  {
   "cell_type": "markdown",
   "metadata": {},
   "source": [
    "02.31 -- ke enam"
   ]
  },
  {
   "cell_type": "markdown",
   "metadata": {},
   "source": [
    "## __Model Complexity : Linear Model Regression__"
   ]
  },
  {
   "cell_type": "code",
   "execution_count": 14,
   "metadata": {},
   "outputs": [],
   "source": [
    "#1. Load dataset\n",
    "\n",
    "boston = load_boston()"
   ]
  },
  {
   "cell_type": "code",
   "execution_count": 15,
   "metadata": {},
   "outputs": [
    {
     "data": {
      "text/plain": [
       "dict_keys(['data', 'target', 'feature_names', 'DESCR', 'filename'])"
      ]
     },
     "execution_count": 15,
     "metadata": {},
     "output_type": "execute_result"
    }
   ],
   "source": [
    "#mengecek keys di dataset\n",
    "\n",
    "boston.keys()"
   ]
  },
  {
   "cell_type": "code",
   "execution_count": 16,
   "metadata": {},
   "outputs": [
    {
     "name": "stdout",
     "output_type": "stream",
     "text": [
      ".. _boston_dataset:\n",
      "\n",
      "Boston house prices dataset\n",
      "---------------------------\n",
      "\n",
      "**Data Set Characteristics:**  \n",
      "\n",
      "    :Number of Instances: 506 \n",
      "\n",
      "    :Number of Attributes: 13 numeric/categorical predictive. Median Value (attribute 14) is usually the target.\n",
      "\n",
      "    :Attribute Information (in order):\n",
      "        - CRIM     per capita crime rate by town\n",
      "        - ZN       proportion of residential land zoned for lots over 25,000 sq.ft.\n",
      "        - INDUS    proportion of non-retail business acres per town\n",
      "        - CHAS     Charles River dummy variable (= 1 if tract bounds river; 0 otherwise)\n",
      "        - NOX      nitric oxides concentration (parts per 10 million)\n",
      "        - RM       average number of rooms per dwelling\n",
      "        - AGE      proportion of owner-occupied units built prior to 1940\n",
      "        - DIS      weighted distances to five Boston employment centres\n",
      "        - RAD      index of accessibility to radial highways\n",
      "        - TAX      full-value property-tax rate per $10,000\n",
      "        - PTRATIO  pupil-teacher ratio by town\n",
      "        - B        1000(Bk - 0.63)^2 where Bk is the proportion of blacks by town\n",
      "        - LSTAT    % lower status of the population\n",
      "        - MEDV     Median value of owner-occupied homes in $1000's\n",
      "\n",
      "    :Missing Attribute Values: None\n",
      "\n",
      "    :Creator: Harrison, D. and Rubinfeld, D.L.\n",
      "\n",
      "This is a copy of UCI ML housing dataset.\n",
      "https://archive.ics.uci.edu/ml/machine-learning-databases/housing/\n",
      "\n",
      "\n",
      "This dataset was taken from the StatLib library which is maintained at Carnegie Mellon University.\n",
      "\n",
      "The Boston house-price data of Harrison, D. and Rubinfeld, D.L. 'Hedonic\n",
      "prices and the demand for clean air', J. Environ. Economics & Management,\n",
      "vol.5, 81-102, 1978.   Used in Belsley, Kuh & Welsch, 'Regression diagnostics\n",
      "...', Wiley, 1980.   N.B. Various transformations are used in the table on\n",
      "pages 244-261 of the latter.\n",
      "\n",
      "The Boston house-price data has been used in many machine learning papers that address regression\n",
      "problems.   \n",
      "     \n",
      ".. topic:: References\n",
      "\n",
      "   - Belsley, Kuh & Welsch, 'Regression diagnostics: Identifying Influential Data and Sources of Collinearity', Wiley, 1980. 244-261.\n",
      "   - Quinlan,R. (1993). Combining Instance-Based and Model-Based Learning. In Proceedings on the Tenth International Conference of Machine Learning, 236-243, University of Massachusetts, Amherst. Morgan Kaufmann.\n",
      "\n"
     ]
    }
   ],
   "source": [
    "#melihat description yg ditersedia di dataset\n",
    "\n",
    "print(boston['DESCR'])"
   ]
  },
  {
   "cell_type": "code",
   "execution_count": 17,
   "metadata": {},
   "outputs": [
    {
     "data": {
      "text/html": [
       "<div>\n",
       "<style scoped>\n",
       "    .dataframe tbody tr th:only-of-type {\n",
       "        vertical-align: middle;\n",
       "    }\n",
       "\n",
       "    .dataframe tbody tr th {\n",
       "        vertical-align: top;\n",
       "    }\n",
       "\n",
       "    .dataframe thead th {\n",
       "        text-align: right;\n",
       "    }\n",
       "</style>\n",
       "<table border=\"1\" class=\"dataframe\">\n",
       "  <thead>\n",
       "    <tr style=\"text-align: right;\">\n",
       "      <th></th>\n",
       "      <th>CRIM</th>\n",
       "      <th>ZN</th>\n",
       "      <th>INDUS</th>\n",
       "      <th>CHAS</th>\n",
       "      <th>NOX</th>\n",
       "      <th>RM</th>\n",
       "      <th>AGE</th>\n",
       "      <th>DIS</th>\n",
       "      <th>RAD</th>\n",
       "      <th>TAX</th>\n",
       "      <th>PTRATIO</th>\n",
       "      <th>B</th>\n",
       "      <th>LSTAT</th>\n",
       "    </tr>\n",
       "  </thead>\n",
       "  <tbody>\n",
       "    <tr>\n",
       "      <th>0</th>\n",
       "      <td>0.00632</td>\n",
       "      <td>18.0</td>\n",
       "      <td>2.31</td>\n",
       "      <td>0.0</td>\n",
       "      <td>0.538</td>\n",
       "      <td>6.575</td>\n",
       "      <td>65.2</td>\n",
       "      <td>4.0900</td>\n",
       "      <td>1.0</td>\n",
       "      <td>296.0</td>\n",
       "      <td>15.3</td>\n",
       "      <td>396.90</td>\n",
       "      <td>4.98</td>\n",
       "    </tr>\n",
       "    <tr>\n",
       "      <th>1</th>\n",
       "      <td>0.02731</td>\n",
       "      <td>0.0</td>\n",
       "      <td>7.07</td>\n",
       "      <td>0.0</td>\n",
       "      <td>0.469</td>\n",
       "      <td>6.421</td>\n",
       "      <td>78.9</td>\n",
       "      <td>4.9671</td>\n",
       "      <td>2.0</td>\n",
       "      <td>242.0</td>\n",
       "      <td>17.8</td>\n",
       "      <td>396.90</td>\n",
       "      <td>9.14</td>\n",
       "    </tr>\n",
       "    <tr>\n",
       "      <th>2</th>\n",
       "      <td>0.02729</td>\n",
       "      <td>0.0</td>\n",
       "      <td>7.07</td>\n",
       "      <td>0.0</td>\n",
       "      <td>0.469</td>\n",
       "      <td>7.185</td>\n",
       "      <td>61.1</td>\n",
       "      <td>4.9671</td>\n",
       "      <td>2.0</td>\n",
       "      <td>242.0</td>\n",
       "      <td>17.8</td>\n",
       "      <td>392.83</td>\n",
       "      <td>4.03</td>\n",
       "    </tr>\n",
       "    <tr>\n",
       "      <th>3</th>\n",
       "      <td>0.03237</td>\n",
       "      <td>0.0</td>\n",
       "      <td>2.18</td>\n",
       "      <td>0.0</td>\n",
       "      <td>0.458</td>\n",
       "      <td>6.998</td>\n",
       "      <td>45.8</td>\n",
       "      <td>6.0622</td>\n",
       "      <td>3.0</td>\n",
       "      <td>222.0</td>\n",
       "      <td>18.7</td>\n",
       "      <td>394.63</td>\n",
       "      <td>2.94</td>\n",
       "    </tr>\n",
       "    <tr>\n",
       "      <th>4</th>\n",
       "      <td>0.06905</td>\n",
       "      <td>0.0</td>\n",
       "      <td>2.18</td>\n",
       "      <td>0.0</td>\n",
       "      <td>0.458</td>\n",
       "      <td>7.147</td>\n",
       "      <td>54.2</td>\n",
       "      <td>6.0622</td>\n",
       "      <td>3.0</td>\n",
       "      <td>222.0</td>\n",
       "      <td>18.7</td>\n",
       "      <td>396.90</td>\n",
       "      <td>5.33</td>\n",
       "    </tr>\n",
       "  </tbody>\n",
       "</table>\n",
       "</div>"
      ],
      "text/plain": [
       "      CRIM    ZN  INDUS  CHAS    NOX     RM   AGE     DIS  RAD    TAX  \\\n",
       "0  0.00632  18.0   2.31   0.0  0.538  6.575  65.2  4.0900  1.0  296.0   \n",
       "1  0.02731   0.0   7.07   0.0  0.469  6.421  78.9  4.9671  2.0  242.0   \n",
       "2  0.02729   0.0   7.07   0.0  0.469  7.185  61.1  4.9671  2.0  242.0   \n",
       "3  0.03237   0.0   2.18   0.0  0.458  6.998  45.8  6.0622  3.0  222.0   \n",
       "4  0.06905   0.0   2.18   0.0  0.458  7.147  54.2  6.0622  3.0  222.0   \n",
       "\n",
       "   PTRATIO       B  LSTAT  \n",
       "0     15.3  396.90   4.98  \n",
       "1     17.8  396.90   9.14  \n",
       "2     17.8  392.83   4.03  \n",
       "3     18.7  394.63   2.94  \n",
       "4     18.7  396.90   5.33  "
      ]
     },
     "metadata": {},
     "output_type": "display_data"
    },
    {
     "data": {
      "text/plain": [
       "0    24.0\n",
       "1    21.6\n",
       "2    34.7\n",
       "3    33.4\n",
       "4    36.2\n",
       "dtype: float64"
      ]
     },
     "metadata": {},
     "output_type": "display_data"
    }
   ],
   "source": [
    "#2. Menentukan variabel dependen dan independent\n",
    "\n",
    "X = pd.DataFrame(data=boston['data'], columns = boston['feature_names'])\n",
    "y = pd.Series(boston['target'])\n",
    "\n",
    "display(X.head())\n",
    "display(y.head())"
   ]
  },
  {
   "cell_type": "code",
   "execution_count": 18,
   "metadata": {},
   "outputs": [],
   "source": [
    "#3. Melakukan data splitting\n",
    "\n",
    "X_train, X_test, y_train, y_test = train_test_split(X, y, test_size=.2, random_state=1899)"
   ]
  },
  {
   "cell_type": "code",
   "execution_count": 19,
   "metadata": {},
   "outputs": [
    {
     "data": {
      "text/plain": [
       "{'alpha': 1.0,\n",
       " 'copy_X': True,\n",
       " 'fit_intercept': True,\n",
       " 'max_iter': None,\n",
       " 'normalize': False,\n",
       " 'random_state': None,\n",
       " 'solver': 'auto',\n",
       " 'tol': 0.001}"
      ]
     },
     "execution_count": 19,
     "metadata": {},
     "output_type": "execute_result"
    }
   ],
   "source": [
    "# mengecek parameter yg ada di Ridge\n",
    "\n",
    "Ridge().get_params()"
   ]
  },
  {
   "cell_type": "code",
   "execution_count": 20,
   "metadata": {},
   "outputs": [],
   "source": [
    "#4. Membuat model, melakukan predict, dan model performance dengan itter alpha\n",
    "\n",
    "alphas = [100000, 10000, 1000, 100, 10, 1, .1, .001]\n",
    "testing_mse = []\n",
    "training_mse = []\n",
    "score = 0\n",
    "\n",
    "for i in alphas:\n",
    "    ridge_ = Ridge(alpha = i)\n",
    "    ridge_.fit(X_train, y_train)\n",
    "    \n",
    "    y_predict_train = ridge_.predict(X_train)\n",
    "    training_mse.append(mean_squared_error(y_train, y_predict_train))\n",
    "    \n",
    "    y_predict_test = ridge_.predict(X_test)\n",
    "    testing_mse.append(mean_squared_error(y_test, y_predict_test))\n",
    "    mse_score = mean_squared_error(y_test, y_predict_test)\n",
    "    \n",
    "    if score < mse_score:\n",
    "        score = mse_score\n",
    "        best_c = i"
   ]
  },
  {
   "cell_type": "code",
   "execution_count": 21,
   "metadata": {},
   "outputs": [
    {
     "data": {
      "image/png": "[encoded data removed]",
      "text/plain": [
       "<Figure size 1440x720 with 1 Axes>"
      ]
     },
     "metadata": {
      "needs_background": "light"
     },
     "output_type": "display_data"
    }
   ],
   "source": [
    "#5. Membuat plot untuk melihat hasil diatas\n",
    "\n",
    "length = range(len(alphas))\n",
    "\n",
    "plt.figure(figsize=(20,10))\n",
    "sns.lineplot(length, testing_mse)\n",
    "sns.lineplot(length, training_mse)\n",
    "plt.legend(['testing mse', 'training mse'])\n",
    "plt.xticks(length, alphas)\n",
    "plt.show()"
   ]
  },
  {
   "cell_type": "code",
   "execution_count": 22,
   "metadata": {},
   "outputs": [
    {
     "name": "stdout",
     "output_type": "stream",
     "text": [
      "best alpha: 100000\n",
      "mse: 54.03257553867469\n"
     ]
    }
   ],
   "source": [
    "#6. Melihat best alpha dan score mse\n",
    "\n",
    "print('best alpha:', best_c) #best alphanya ketika mse bernilai paling kecil\n",
    "print('mse:', score) #semakin besar mse, semakin jelek"
   ]
  },
  {
   "cell_type": "markdown",
   "metadata": {},
   "source": [
    "## __How it works?__"
   ]
  },
  {
   "cell_type": "markdown",
   "metadata": {},
   "source": [
    "> #### __Membuktikan secara manual dengan data yg lebih sederhana__"
   ]
  },
  {
   "cell_type": "code",
   "execution_count": 23,
   "metadata": {},
   "outputs": [
    {
     "data": {
      "text/html": [
       "<div>\n",
       "<style scoped>\n",
       "    .dataframe tbody tr th:only-of-type {\n",
       "        vertical-align: middle;\n",
       "    }\n",
       "\n",
       "    .dataframe tbody tr th {\n",
       "        vertical-align: top;\n",
       "    }\n",
       "\n",
       "    .dataframe thead th {\n",
       "        text-align: right;\n",
       "    }\n",
       "</style>\n",
       "<table border=\"1\" class=\"dataframe\">\n",
       "  <thead>\n",
       "    <tr style=\"text-align: right;\">\n",
       "      <th></th>\n",
       "      <th>x</th>\n",
       "      <th>y</th>\n",
       "    </tr>\n",
       "  </thead>\n",
       "  <tbody>\n",
       "    <tr>\n",
       "      <th>0</th>\n",
       "      <td>0</td>\n",
       "      <td>1.251942</td>\n",
       "    </tr>\n",
       "    <tr>\n",
       "      <th>1</th>\n",
       "      <td>1</td>\n",
       "      <td>0.220049</td>\n",
       "    </tr>\n",
       "    <tr>\n",
       "      <th>2</th>\n",
       "      <td>2</td>\n",
       "      <td>3.708833</td>\n",
       "    </tr>\n",
       "    <tr>\n",
       "      <th>3</th>\n",
       "      <td>3</td>\n",
       "      <td>4.065765</td>\n",
       "    </tr>\n",
       "    <tr>\n",
       "      <th>4</th>\n",
       "      <td>4</td>\n",
       "      <td>4.162326</td>\n",
       "    </tr>\n",
       "    <tr>\n",
       "      <th>5</th>\n",
       "      <td>5</td>\n",
       "      <td>3.406574</td>\n",
       "    </tr>\n",
       "    <tr>\n",
       "      <th>6</th>\n",
       "      <td>6</td>\n",
       "      <td>4.286065</td>\n",
       "    </tr>\n",
       "    <tr>\n",
       "      <th>7</th>\n",
       "      <td>7</td>\n",
       "      <td>6.671264</td>\n",
       "    </tr>\n",
       "    <tr>\n",
       "      <th>8</th>\n",
       "      <td>8</td>\n",
       "      <td>6.703544</td>\n",
       "    </tr>\n",
       "    <tr>\n",
       "      <th>9</th>\n",
       "      <td>9</td>\n",
       "      <td>8.975773</td>\n",
       "    </tr>\n",
       "  </tbody>\n",
       "</table>\n",
       "</div>"
      ],
      "text/plain": [
       "   x         y\n",
       "0  0  1.251942\n",
       "1  1  0.220049\n",
       "2  2  3.708833\n",
       "3  3  4.065765\n",
       "4  4  4.162326\n",
       "5  5  3.406574\n",
       "6  6  4.286065\n",
       "7  7  6.671264\n",
       "8  8  6.703544\n",
       "9  9  8.975773"
      ]
     },
     "execution_count": 23,
     "metadata": {},
     "output_type": "execute_result"
    }
   ],
   "source": [
    "#1. Membuat data sederhana\n",
    "\n",
    "np.random.seed = 1\n",
    "data = {\n",
    "    'x': np.arange(10),\n",
    "    'y': np.arange(10)+np.random.randn(10)\n",
    "}\n",
    "\n",
    "df = pd.DataFrame(data)\n",
    "df"
   ]
  },
  {
   "cell_type": "code",
   "execution_count": 24,
   "metadata": {},
   "outputs": [
    {
     "data": {
      "image/png": "[encoded data removed]",
      "text/plain": [
       "<Figure size 432x288 with 1 Axes>"
      ]
     },
     "metadata": {
      "needs_background": "light"
     },
     "output_type": "display_data"
    }
   ],
   "source": [
    "#2. Memvisualisasikan dengan plot\n",
    "\n",
    "plt.plot(df['x'], df['y'], 'ro-')\n",
    "plt.show()"
   ]
  },
  {
   "cell_type": "code",
   "execution_count": 25,
   "metadata": {},
   "outputs": [],
   "source": [
    "#3. Melakukan data splitting (train 80: test 20)\n",
    "\n",
    "Xtr, Xts, ytr, yts = train_test_split(df[['x']], df['y'], test_size=0.2, random_state=1)"
   ]
  },
  {
   "cell_type": "code",
   "execution_count": 26,
   "metadata": {},
   "outputs": [
    {
     "data": {
      "text/plain": [
       "LinearRegression()"
      ]
     },
     "execution_count": 26,
     "metadata": {},
     "output_type": "execute_result"
    }
   ],
   "source": [
    "#4. Membuat model\n",
    "\n",
    "lr8020 = LinearRegression()\n",
    "lr8020.fit(Xtr, ytr)"
   ]
  },
  {
   "cell_type": "code",
   "execution_count": 27,
   "metadata": {},
   "outputs": [
    {
     "data": {
      "text/html": [
       "<div>\n",
       "<style scoped>\n",
       "    .dataframe tbody tr th:only-of-type {\n",
       "        vertical-align: middle;\n",
       "    }\n",
       "\n",
       "    .dataframe tbody tr th {\n",
       "        vertical-align: top;\n",
       "    }\n",
       "\n",
       "    .dataframe thead th {\n",
       "        text-align: right;\n",
       "    }\n",
       "</style>\n",
       "<table border=\"1\" class=\"dataframe\">\n",
       "  <thead>\n",
       "    <tr style=\"text-align: right;\">\n",
       "      <th></th>\n",
       "      <th>x</th>\n",
       "      <th>y</th>\n",
       "      <th>pred_8020</th>\n",
       "    </tr>\n",
       "  </thead>\n",
       "  <tbody>\n",
       "    <tr>\n",
       "      <th>0</th>\n",
       "      <td>0</td>\n",
       "      <td>1.251942</td>\n",
       "      <td>0.677117</td>\n",
       "    </tr>\n",
       "    <tr>\n",
       "      <th>1</th>\n",
       "      <td>1</td>\n",
       "      <td>0.220049</td>\n",
       "      <td>1.422723</td>\n",
       "    </tr>\n",
       "    <tr>\n",
       "      <th>2</th>\n",
       "      <td>2</td>\n",
       "      <td>3.708833</td>\n",
       "      <td>2.168329</td>\n",
       "    </tr>\n",
       "    <tr>\n",
       "      <th>3</th>\n",
       "      <td>3</td>\n",
       "      <td>4.065765</td>\n",
       "      <td>2.913934</td>\n",
       "    </tr>\n",
       "    <tr>\n",
       "      <th>4</th>\n",
       "      <td>4</td>\n",
       "      <td>4.162326</td>\n",
       "      <td>3.659540</td>\n",
       "    </tr>\n",
       "    <tr>\n",
       "      <th>5</th>\n",
       "      <td>5</td>\n",
       "      <td>3.406574</td>\n",
       "      <td>4.405145</td>\n",
       "    </tr>\n",
       "    <tr>\n",
       "      <th>6</th>\n",
       "      <td>6</td>\n",
       "      <td>4.286065</td>\n",
       "      <td>5.150751</td>\n",
       "    </tr>\n",
       "    <tr>\n",
       "      <th>7</th>\n",
       "      <td>7</td>\n",
       "      <td>6.671264</td>\n",
       "      <td>5.896356</td>\n",
       "    </tr>\n",
       "    <tr>\n",
       "      <th>8</th>\n",
       "      <td>8</td>\n",
       "      <td>6.703544</td>\n",
       "      <td>6.641962</td>\n",
       "    </tr>\n",
       "    <tr>\n",
       "      <th>9</th>\n",
       "      <td>9</td>\n",
       "      <td>8.975773</td>\n",
       "      <td>7.387567</td>\n",
       "    </tr>\n",
       "  </tbody>\n",
       "</table>\n",
       "</div>"
      ],
      "text/plain": [
       "   x         y  pred_8020\n",
       "0  0  1.251942   0.677117\n",
       "1  1  0.220049   1.422723\n",
       "2  2  3.708833   2.168329\n",
       "3  3  4.065765   2.913934\n",
       "4  4  4.162326   3.659540\n",
       "5  5  3.406574   4.405145\n",
       "6  6  4.286065   5.150751\n",
       "7  7  6.671264   5.896356\n",
       "8  8  6.703544   6.641962\n",
       "9  9  8.975773   7.387567"
      ]
     },
     "execution_count": 27,
     "metadata": {},
     "output_type": "execute_result"
    }
   ],
   "source": [
    "#5. Melakukan prediksi dan dibuat dalam tabel\n",
    "\n",
    "df['pred_8020'] = lr8020.predict(df[['x']])\n",
    "df"
   ]
  },
  {
   "cell_type": "code",
   "execution_count": 28,
   "metadata": {},
   "outputs": [
    {
     "data": {
      "image/png": "[encoded data removed]",
      "text/plain": [
       "<Figure size 432x288 with 1 Axes>"
      ]
     },
     "metadata": {
      "needs_background": "light"
     },
     "output_type": "display_data"
    }
   ],
   "source": [
    "#6. Melakukan plotting dengan data prediksi\n",
    "\n",
    "plt.plot(df['x'], df['y'], 'ro-')\n",
    "plt.plot(df['x'], df['pred_8020'], 'b--', label='Best Fit Line OLS')\n",
    "plt.legend()\n",
    "plt.show()"
   ]
  },
  {
   "cell_type": "markdown",
   "metadata": {},
   "source": [
    "> #### __Linear regression dengan data yg lebih sederhana (overfitting)__"
   ]
  },
  {
   "cell_type": "code",
   "execution_count": 29,
   "metadata": {},
   "outputs": [
    {
     "data": {
      "text/plain": [
       "LinearRegression()"
      ]
     },
     "execution_count": 29,
     "metadata": {},
     "output_type": "execute_result"
    }
   ],
   "source": [
    "#1. Membuat model dengan 2 data pertama saja\n",
    "\n",
    "lr2 = LinearRegression()\n",
    "lr2.fit(df[['x']].iloc[:2], df['y'][:2])"
   ]
  },
  {
   "cell_type": "code",
   "execution_count": 30,
   "metadata": {},
   "outputs": [
    {
     "data": {
      "text/html": [
       "<div>\n",
       "<style scoped>\n",
       "    .dataframe tbody tr th:only-of-type {\n",
       "        vertical-align: middle;\n",
       "    }\n",
       "\n",
       "    .dataframe tbody tr th {\n",
       "        vertical-align: top;\n",
       "    }\n",
       "\n",
       "    .dataframe thead th {\n",
       "        text-align: right;\n",
       "    }\n",
       "</style>\n",
       "<table border=\"1\" class=\"dataframe\">\n",
       "  <thead>\n",
       "    <tr style=\"text-align: right;\">\n",
       "      <th></th>\n",
       "      <th>x</th>\n",
       "      <th>y</th>\n",
       "      <th>pred_8020</th>\n",
       "      <th>pred_2</th>\n",
       "    </tr>\n",
       "  </thead>\n",
       "  <tbody>\n",
       "    <tr>\n",
       "      <th>0</th>\n",
       "      <td>0</td>\n",
       "      <td>1.251942</td>\n",
       "      <td>0.677117</td>\n",
       "      <td>1.251942</td>\n",
       "    </tr>\n",
       "    <tr>\n",
       "      <th>1</th>\n",
       "      <td>1</td>\n",
       "      <td>0.220049</td>\n",
       "      <td>1.422723</td>\n",
       "      <td>0.220049</td>\n",
       "    </tr>\n",
       "    <tr>\n",
       "      <th>2</th>\n",
       "      <td>2</td>\n",
       "      <td>3.708833</td>\n",
       "      <td>2.168329</td>\n",
       "      <td>-0.811845</td>\n",
       "    </tr>\n",
       "    <tr>\n",
       "      <th>3</th>\n",
       "      <td>3</td>\n",
       "      <td>4.065765</td>\n",
       "      <td>2.913934</td>\n",
       "      <td>-1.843738</td>\n",
       "    </tr>\n",
       "    <tr>\n",
       "      <th>4</th>\n",
       "      <td>4</td>\n",
       "      <td>4.162326</td>\n",
       "      <td>3.659540</td>\n",
       "      <td>-2.875632</td>\n",
       "    </tr>\n",
       "    <tr>\n",
       "      <th>5</th>\n",
       "      <td>5</td>\n",
       "      <td>3.406574</td>\n",
       "      <td>4.405145</td>\n",
       "      <td>-3.907525</td>\n",
       "    </tr>\n",
       "    <tr>\n",
       "      <th>6</th>\n",
       "      <td>6</td>\n",
       "      <td>4.286065</td>\n",
       "      <td>5.150751</td>\n",
       "      <td>-4.939419</td>\n",
       "    </tr>\n",
       "    <tr>\n",
       "      <th>7</th>\n",
       "      <td>7</td>\n",
       "      <td>6.671264</td>\n",
       "      <td>5.896356</td>\n",
       "      <td>-5.971313</td>\n",
       "    </tr>\n",
       "    <tr>\n",
       "      <th>8</th>\n",
       "      <td>8</td>\n",
       "      <td>6.703544</td>\n",
       "      <td>6.641962</td>\n",
       "      <td>-7.003206</td>\n",
       "    </tr>\n",
       "    <tr>\n",
       "      <th>9</th>\n",
       "      <td>9</td>\n",
       "      <td>8.975773</td>\n",
       "      <td>7.387567</td>\n",
       "      <td>-8.035100</td>\n",
       "    </tr>\n",
       "  </tbody>\n",
       "</table>\n",
       "</div>"
      ],
      "text/plain": [
       "   x         y  pred_8020    pred_2\n",
       "0  0  1.251942   0.677117  1.251942\n",
       "1  1  0.220049   1.422723  0.220049\n",
       "2  2  3.708833   2.168329 -0.811845\n",
       "3  3  4.065765   2.913934 -1.843738\n",
       "4  4  4.162326   3.659540 -2.875632\n",
       "5  5  3.406574   4.405145 -3.907525\n",
       "6  6  4.286065   5.150751 -4.939419\n",
       "7  7  6.671264   5.896356 -5.971313\n",
       "8  8  6.703544   6.641962 -7.003206\n",
       "9  9  8.975773   7.387567 -8.035100"
      ]
     },
     "execution_count": 30,
     "metadata": {},
     "output_type": "execute_result"
    }
   ],
   "source": [
    "#2. Melakukan prediksi\n",
    "\n",
    "df['pred_2'] = lr2.predict(df[['x']])\n",
    "df"
   ]
  },
  {
   "cell_type": "code",
   "execution_count": 31,
   "metadata": {},
   "outputs": [
    {
     "data": {
      "image/png": "[encoded data removed]",
      "text/plain": [
       "<Figure size 432x288 with 1 Axes>"
      ]
     },
     "metadata": {
      "needs_background": "light"
     },
     "output_type": "display_data"
    }
   ],
   "source": [
    "#3. Memvisualisasikan dengan plot\n",
    "\n",
    "plt.plot(df['x'], df['y'], 'ro-')\n",
    "plt.plot(df['x'], df['pred_8020'], 'b--', label='Best Fit Line OLS')\n",
    "plt.plot(df['x'], df['pred_2'], 'g-', label='Overfit Line')\n",
    "plt.legend()\n",
    "plt.show()"
   ]
  },
  {
   "cell_type": "markdown",
   "metadata": {},
   "source": [
    "> #### __Ridge dengan data yg lebih sederhana (overfitting)__"
   ]
  },
  {
   "cell_type": "code",
   "execution_count": 32,
   "metadata": {},
   "outputs": [
    {
     "data": {
      "text/plain": [
       "Ridge(alpha=1.7)"
      ]
     },
     "execution_count": 32,
     "metadata": {},
     "output_type": "execute_result"
    }
   ],
   "source": [
    "#1. Mmebuat model dengan ridge\n",
    "\n",
    "ridge = Ridge(alpha=1.7) #alpha =! 0\n",
    "ridge.fit(df[['x']].iloc[:2], df['y'][:2])"
   ]
  },
  {
   "cell_type": "code",
   "execution_count": 33,
   "metadata": {},
   "outputs": [],
   "source": [
    "#2. Membuat prediksi di dalam tabel\n",
    "\n",
    "df['pred_ridge'] = ridge.predict(df[['x']])"
   ]
  },
  {
   "cell_type": "code",
   "execution_count": 34,
   "metadata": {},
   "outputs": [
    {
     "data": {
      "image/png": "[encoded data removed]",
      "text/plain": [
       "<Figure size 432x288 with 1 Axes>"
      ]
     },
     "metadata": {
      "needs_background": "light"
     },
     "output_type": "display_data"
    }
   ],
   "source": [
    "#3. Memvisualisasikan hasil diatas\n",
    "\n",
    "plt.plot(df['x'], df['y'], 'ro-')\n",
    "plt.plot(df['x'], df['pred_8020'], 'b--', label='Best Fit Line OLS')\n",
    "plt.plot(df['x'], df['pred_2'], 'g-', label='Overfit Line')\n",
    "plt.plot(df['x'], df['pred_ridge'], 'm-', label='Ridge')\n",
    "plt.legend()\n",
    "\n",
    "plt.show()"
   ]
  },
  {
   "cell_type": "code",
   "execution_count": 35,
   "metadata": {},
   "outputs": [
    {
     "name": "stdout",
     "output_type": "stream",
     "text": [
      "3.0814879110195774e-32\n",
      "0.15895065121054236\n"
     ]
    }
   ],
   "source": [
    "#4. Membandingkan nilai mse pada train set dengan prediksi dengan ridge dan tanpa ridge\n",
    "\n",
    "mse_train_2_ols = mean_squared_error(df['y'][:2], df['pred_2'][:2])\n",
    "mse_train_2_ridge = mean_squared_error(df['y'][:2], df['pred_ridge'][:2])\n",
    "\n",
    "print(mse_train_2_ols)\n",
    "print(mse_train_2_ridge)"
   ]
  },
  {
   "cell_type": "code",
   "execution_count": 36,
   "metadata": {},
   "outputs": [
    {
     "name": "stdout",
     "output_type": "stream",
     "text": [
      "110.07209311522902\n",
      "37.724713421983964\n"
     ]
    }
   ],
   "source": [
    "#4. Membandingkan nilai mse pada train set dengan prediksi dengan ridge dan tanpa ridge\n",
    "\n",
    "mse_test_2_ols = mean_squared_error(df['y'][2:], df['pred_2'][2:])\n",
    "mse_test_2_ridge = mean_squared_error(df['y'][2:], df['pred_ridge'][2:])\n",
    "\n",
    "print(mse_test_2_ols)\n",
    "print(mse_test_2_ridge)"
   ]
  },
  {
   "cell_type": "markdown",
   "metadata": {},
   "source": []
  }
 ],
 "metadata": {
  "kernelspec": {
   "display_name": "Python 3",
   "language": "python",
   "name": "python3"
  },
  "language_info": {
   "codemirror_mode": {
    "name": "ipython",
    "version": 3
   },
   "file_extension": ".py",
   "mimetype": "text/x-python",
   "name": "python",
   "nbconvert_exporter": "python",
   "pygments_lexer": "ipython3",
   "version": "3.8.5"
  }
 },
 "nbformat": 4,
 "nbformat_minor": 4
}
